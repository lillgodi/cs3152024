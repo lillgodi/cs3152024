{
 "cells": [
  {
   "cell_type": "markdown",
   "metadata": {
    "colab_type": "text",
    "id": "20TiIlo07wNK"
   },
   "source": [
    "# **Python Libraries - `requests`, `bs4`**\n",
    "\n",
    "**Author: Eni Mustafaraj**\n",
    "\n",
    "In this notebook I'll be showing you:\n",
    "\n",
    "1. how to use the `requests` package to download an HTML file\n",
    "2. how to install new packages directly from Jupyter\n",
    "3. how to use `bs4` (BeautifulSoup) to parse the content of a simple HTML file"
   ]
  },
  {
   "cell_type": "markdown",
   "metadata": {},
   "source": [
    "## Part 1: Using `requests`\n",
    "\n",
    "We humans use a web browser to read HTML pages on the Web. Everytime we visit a webpage, it is actually being transfered to our computer (and stored on our local drive). When we don't use a browser to visit websites, we can use libraries from a programming language to perform the same action as the browser.\n",
    "\n",
    "In Python, we will use `requests` to download files from your web folder."
   ]
  },
  {
   "cell_type": "code",
   "execution_count": null,
   "metadata": {
    "colab": {},
    "colab_type": "code",
    "id": "OZqx8yi57tvd"
   },
   "outputs": [],
   "source": [
    "import requests"
   ]
  },
  {
   "cell_type": "markdown",
   "metadata": {
    "colab_type": "text",
    "id": "h0K_RQh2uDsE"
   },
   "source": [
    "Use the `get` method to send a request to the server for the desired file. Check that the response was received."
   ]
  },
  {
   "cell_type": "code",
   "execution_count": null,
   "metadata": {
    "colab": {
     "base_uri": "https://localhost:8080/",
     "height": 35
    },
    "colab_type": "code",
    "id": "tFTW1Udpsi6q",
    "outputId": "0e5476e6-2ed8-4606-baec-c775ccff805b"
   },
   "outputs": [],
   "source": [
    "response = requests.get(\"http://cs.wellesley.edu/~cs315/readings/index.html\")\n",
    "print(response.status_code)"
   ]
  },
  {
   "cell_type": "markdown",
   "metadata": {},
   "source": [
    "The variable response is an object, referring to an instance of a class defined in the library `requests`, we can verify this through the Python function `type`: "
   ]
  },
  {
   "cell_type": "code",
   "execution_count": null,
   "metadata": {},
   "outputs": [],
   "source": [
    "type(response)"
   ]
  },
  {
   "cell_type": "markdown",
   "metadata": {
    "colab_type": "text",
    "id": "tyQjWigbuRFu"
   },
   "source": [
    "We use `dir` to lookup the list of all attributed and methods for an object or class or library:"
   ]
  },
  {
   "cell_type": "code",
   "execution_count": null,
   "metadata": {
    "colab": {
     "base_uri": "https://localhost:8080/",
     "height": 1000
    },
    "colab_type": "code",
    "id": "jJTaL-WBsqKI",
    "outputId": "e54dbbe8-23d9-413c-803f-e390ab5811d5"
   },
   "outputs": [],
   "source": [
    "print(dir(response))"
   ]
  },
  {
   "cell_type": "markdown",
   "metadata": {
    "colab_type": "text",
    "id": "PxWeGagAupBt"
   },
   "source": [
    "Look up the text of the response:"
   ]
  },
  {
   "cell_type": "code",
   "execution_count": null,
   "metadata": {
    "colab": {
     "base_uri": "https://localhost:8080/",
     "height": 54
    },
    "colab_type": "code",
    "id": "T2Y8Gkk_sqvd",
    "outputId": "0189b8dc-9c78-470c-851d-a5a6b340593a"
   },
   "outputs": [],
   "source": [
    "response.url"
   ]
  },
  {
   "cell_type": "markdown",
   "metadata": {
    "colab_type": "text",
    "id": "1n1U7CFwvN64"
   },
   "source": [
    "Check if the desired phrase is in the response's content:"
   ]
  },
  {
   "cell_type": "code",
   "execution_count": null,
   "metadata": {
    "colab": {
     "base_uri": "https://localhost:8080/",
     "height": 35
    },
    "colab_type": "code",
    "id": "jmJeLm8Lt311",
    "outputId": "84989d83-01c7-4f9b-e852-df3ebab36306"
   },
   "outputs": [],
   "source": [
    "response.text.find(\"for protection\") != -1 \n",
    "\n",
    "# Why are we checking that the value of the expression on the left is different from -1?\n",
    "# Answer: Because the string method find return -1 when it doesn't find a substring in text"
   ]
  },
  {
   "cell_type": "markdown",
   "metadata": {
    "colab_type": "text",
    "id": "akFzDU5FvrIB"
   },
   "source": [
    "### Use case: checking your CS server accounts\n",
    "\n",
    "We will need first to get your accounts:"
   ]
  },
  {
   "cell_type": "code",
   "execution_count": null,
   "metadata": {},
   "outputs": [],
   "source": [
    "with open('sec02.txt') as inputF:\n",
    "    lines = inputF.readlines()\n",
    "    \n",
    "print(lines)"
   ]
  },
  {
   "cell_type": "markdown",
   "metadata": {},
   "source": [
    "Clean up the list of accounts, using list comprehension:"
   ]
  },
  {
   "cell_type": "code",
   "execution_count": null,
   "metadata": {},
   "outputs": [],
   "source": [
    "accounts = [line.split('@')[0] for line in lines]\n",
    "print(accounts)"
   ]
  },
  {
   "cell_type": "markdown",
   "metadata": {},
   "source": [
    "Now that we have all your accounts, let's generate the URLs for them:"
   ]
  },
  {
   "cell_type": "code",
   "execution_count": null,
   "metadata": {
    "colab": {
     "base_uri": "https://localhost:8080/",
     "height": 369
    },
    "colab_type": "code",
    "id": "thSgn0Cy8VQY",
    "outputId": "49ee8019-474b-4e79-ce52-c8598927ae37"
   },
   "outputs": [],
   "source": [
    "# generate URLs for all accounts via list comprehension and the format string syntax\n",
    "\n",
    "urls = [f'http://cs.wellesley.edu/~{acc}/index.html' for acc in accounts]\n",
    "\n",
    "for el in urls:\n",
    "    print(el) "
   ]
  },
  {
   "cell_type": "markdown",
   "metadata": {},
   "source": [
    "We now will look up the text of each index.html file to check if it contains our desired phrase."
   ]
  },
  {
   "cell_type": "code",
   "execution_count": null,
   "metadata": {
    "colab": {
     "base_uri": "https://localhost:8080/",
     "height": 369
    },
    "colab_type": "code",
    "id": "hg8F4BcJP9zy",
    "outputId": "571dcf10-28f5-475e-d063-ca963631ba9c"
   },
   "outputs": [],
   "source": [
    "for acc in accounts:\n",
    "    url = f\"http://cs.wellesley.edu/~{acc}/index.html\"\n",
    "    response = requests.get(url)\n",
    "    if response.status_code == 200:\n",
    "        if response.text.find(\"for protection\") != -1:\n",
    "            print(acc, \"SUCCESS\")\n",
    "        else:\n",
    "            print(acc, \"Didn't find phrase.\")\n",
    "    else:\n",
    "        print(acc, \"ERROR\", response.reason)"
   ]
  },
  {
   "cell_type": "markdown",
   "metadata": {
    "colab": {},
    "colab_type": "code",
    "id": "Bvl6w08DwePs"
   },
   "source": [
    "## Part 2: Install a new package\n",
    "\n",
    "When our Python installation doesn't contain a package/module, we will get an error when importing it:"
   ]
  },
  {
   "cell_type": "code",
   "execution_count": null,
   "metadata": {},
   "outputs": [],
   "source": [
    "import textblob"
   ]
  },
  {
   "cell_type": "markdown",
   "metadata": {},
   "source": [
    "It's easy and possible to install packages from the notebook itself, just use the command `pip install` followed by the library name."
   ]
  },
  {
   "cell_type": "code",
   "execution_count": null,
   "metadata": {},
   "outputs": [],
   "source": [
    "pip install textblob"
   ]
  },
  {
   "cell_type": "markdown",
   "metadata": {},
   "source": [
    "## Part 3: BeautifulSoup\n",
    "\n",
    "This is a library that helps parse HTML documents. "
   ]
  },
  {
   "cell_type": "code",
   "execution_count": null,
   "metadata": {},
   "outputs": [],
   "source": [
    "import bs4"
   ]
  },
  {
   "cell_type": "markdown",
   "metadata": {},
   "source": [
    "The class we will use is called BeatifulSoup, but since the name is long, we will rename it as BS."
   ]
  },
  {
   "cell_type": "code",
   "execution_count": null,
   "metadata": {},
   "outputs": [],
   "source": [
    "from bs4 import BeautifulSoup as BS"
   ]
  },
  {
   "cell_type": "markdown",
   "metadata": {},
   "source": [
    "Firs, I'm creating a simple function to get the content of HTML pages based on their URLs:"
   ]
  },
  {
   "cell_type": "code",
   "execution_count": null,
   "metadata": {},
   "outputs": [],
   "source": [
    "def getHTMLPage(url):\n",
    "    \"\"\"Given a url, get the HTML page content\"\"\"\n",
    "    \n",
    "    response = requests.get(url)\n",
    "    if response.status_code == 200:\n",
    "        return response.text\n",
    "    else:\n",
    "        print(\"Failure resaon:\", response.reason)\n",
    "        return"
   ]
  },
  {
   "cell_type": "markdown",
   "metadata": {},
   "source": [
    "Now I will get the content of the HTML file using the function I created:"
   ]
  },
  {
   "cell_type": "code",
   "execution_count": null,
   "metadata": {},
   "outputs": [],
   "source": [
    "url = \"http://cs.wellesley.edu/~cs315/readings/index.html\"\n",
    "htmlPage = getHTMLPage(url)\n",
    "print(htmlPage)"
   ]
  },
  {
   "cell_type": "markdown",
   "metadata": {},
   "source": [
    "Let's check what value type is stored in `htmlPage`:"
   ]
  },
  {
   "cell_type": "code",
   "execution_count": null,
   "metadata": {},
   "outputs": [],
   "source": [
    "type(htmlPage)"
   ]
  },
  {
   "cell_type": "markdown",
   "metadata": {},
   "source": [
    "The BeautifulSoup constructor will create the DOM (document object model) object:"
   ]
  },
  {
   "cell_type": "code",
   "execution_count": null,
   "metadata": {},
   "outputs": [],
   "source": [
    "domTree = BS(htmlPage, 'html.parser')\n",
    "type(domTree)"
   ]
  },
  {
   "cell_type": "markdown",
   "metadata": {},
   "source": [
    "**Note:** Notice the difference between `htmlPage`, which is simply a string and `domTree` which is an object (an instance of the class BeautifuSoup)."
   ]
  },
  {
   "cell_type": "code",
   "execution_count": null,
   "metadata": {},
   "outputs": [],
   "source": [
    "print(dir(domTree))"
   ]
  },
  {
   "cell_type": "markdown",
   "metadata": {},
   "source": [
    "Let us use the method `find` to find elements with a given tag:"
   ]
  },
  {
   "cell_type": "code",
   "execution_count": null,
   "metadata": {},
   "outputs": [],
   "source": [
    "domTree.find('p') # get a paragraph element"
   ]
  },
  {
   "cell_type": "code",
   "execution_count": null,
   "metadata": {},
   "outputs": [],
   "source": [
    "domTree.find('body') # get the body element"
   ]
  },
  {
   "cell_type": "code",
   "execution_count": null,
   "metadata": {},
   "outputs": [],
   "source": [
    "domTree.find('title') # get the title element"
   ]
  },
  {
   "cell_type": "code",
   "execution_count": null,
   "metadata": {},
   "outputs": [],
   "source": [
    "domTree.find('p').text # get the text of the p element"
   ]
  },
  {
   "cell_type": "markdown",
   "metadata": {},
   "source": [
    "This was just to give you a taste of BeautifulSoup, we will continue doing more work with it on future tutorials."
   ]
  }
 ],
 "metadata": {
  "colab": {
   "name": "requests.ipynb",
   "provenance": []
  },
  "kernelspec": {
   "display_name": "Python 3",
   "language": "python",
   "name": "python3"
  },
  "language_info": {
   "codemirror_mode": {
    "name": "ipython",
    "version": 3
   },
   "file_extension": ".py",
   "mimetype": "text/x-python",
   "name": "python",
   "nbconvert_exporter": "python",
   "pygments_lexer": "ipython3",
   "version": "3.7.7"
  }
 },
 "nbformat": 4,
 "nbformat_minor": 1
}
