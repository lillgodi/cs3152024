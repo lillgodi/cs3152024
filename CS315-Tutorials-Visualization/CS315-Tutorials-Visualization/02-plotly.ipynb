{
 "cells": [
  {
   "cell_type": "markdown",
   "metadata": {},
   "source": [
    "# Visualization with `Plotly Express`\n",
    "\n",
    "Reference: https://plotly.com/python/plotly-express/\n",
    "\n",
    "\"Plotly Express provides more than 30 functions for creating different types of figures. The API for these functions was carefully designed to be as consistent and easy to learn as possible, making it easy to switch from a scatter plot to a bar chart to a histogram to a sunburst chart throughout a data exploration session.\"\n",
    "\n",
    "**Table of Content**\n",
    "\n",
    "1. [Create a barchart](#sec1)\n",
    "2. [Create a scatterplot](#sec2)\n",
    "3. [Create a heatmap](#sec3)\n",
    "\n",
    "Before starting, check if you need to install the plotly-express module."
   ]
  },
  {
   "cell_type": "code",
   "execution_count": null,
   "metadata": {},
   "outputs": [],
   "source": [
    "pip install plotly-express"
   ]
  },
  {
   "cell_type": "code",
   "execution_count": null,
   "metadata": {},
   "outputs": [],
   "source": [
    "import plotly_express as px\n",
    "import json"
   ]
  },
  {
   "cell_type": "markdown",
   "metadata": {},
   "source": [
    "Plotly Express has several built-in demo datasets which we can use. Here is the list of such datasets:"
   ]
  },
  {
   "cell_type": "code",
   "execution_count": null,
   "metadata": {},
   "outputs": [],
   "source": [
    "print(dir(px.data))"
   ]
  },
  {
   "cell_type": "code",
   "execution_count": null,
   "metadata": {},
   "outputs": [],
   "source": [
    "# we are going to use the tips dataset\n",
    "tips = px.data.tips()"
   ]
  },
  {
   "cell_type": "markdown",
   "metadata": {},
   "source": [
    "The type of the `tips` dataset is a Pandas dataframe."
   ]
  },
  {
   "cell_type": "code",
   "execution_count": null,
   "metadata": {},
   "outputs": [],
   "source": [
    "type(tips)"
   ]
  },
  {
   "cell_type": "code",
   "execution_count": null,
   "metadata": {
    "scrolled": true
   },
   "outputs": [],
   "source": [
    "tips.head() # to see how our dataset looks like"
   ]
  },
  {
   "cell_type": "code",
   "execution_count": null,
   "metadata": {},
   "outputs": [],
   "source": [
    "tips.shape # the dimension"
   ]
  },
  {
   "cell_type": "markdown",
   "metadata": {},
   "source": [
    "<a id=\"sec1\"></a>\n",
    "## 1. Create a Barchart\n",
    "\n",
    "First we prepare the data we want to visualize, then we invoke the function to do so."
   ]
  },
  {
   "cell_type": "code",
   "execution_count": null,
   "metadata": {},
   "outputs": [],
   "source": [
    "# we want to plot the total bills received by female and male employees\n",
    "female_tips = sum(tips[tips[\"sex\"]==\"Female\"][\"total_bill\"]) # notice that we're filtering by sex first\n",
    "male_tips = sum(tips[tips[\"sex\"]==\"Male\"][\"total_bill\"])"
   ]
  },
  {
   "cell_type": "code",
   "execution_count": null,
   "metadata": {},
   "outputs": [],
   "source": [
    "female_tips"
   ]
  },
  {
   "cell_type": "code",
   "execution_count": null,
   "metadata": {},
   "outputs": [],
   "source": [
    "male_tips"
   ]
  },
  {
   "cell_type": "markdown",
   "metadata": {},
   "source": [
    "In Plotly Express, visualization functions have default values, so one can create graphs with very few arguments. Notice below that we are only providing the values for x and y."
   ]
  },
  {
   "cell_type": "code",
   "execution_count": null,
   "metadata": {},
   "outputs": [],
   "source": [
    "fig = px.bar(x=[\"Female\", \"Male\"], y=[female_tips, male_tips])\n",
    "fig.show() # to show the plot"
   ]
  },
  {
   "cell_type": "markdown",
   "metadata": {},
   "source": [
    "We can also use the dataset directly to create a kind of bar chart were each observation is a line and they are stacked."
   ]
  },
  {
   "cell_type": "code",
   "execution_count": null,
   "metadata": {},
   "outputs": [],
   "source": [
    "fig = px.bar(tips, x=\"sex\", y=\"total_bill\")\n",
    "fig.show() # to show the plot"
   ]
  },
  {
   "cell_type": "markdown",
   "metadata": {},
   "source": [
    "Notice that the bars have the same height in both barcharts, but the second visualization was created by Plotly without us having to generate the bar heights through formulas. \n",
    "\n",
    "Also, the \"white lines\" in each bar represent the singular data points that are contributing in building the bar. Hover over each line to read the information about the data point."
   ]
  },
  {
   "cell_type": "markdown",
   "metadata": {},
   "source": [
    "<a id=\"sec2\"></a>\n",
    "## 2. Create a scatterplot\n",
    "\n",
    "For this, let's use the election dataset"
   ]
  },
  {
   "cell_type": "code",
   "execution_count": null,
   "metadata": {},
   "outputs": [],
   "source": [
    "election = px.data.election()\n",
    "election.head()"
   ]
  },
  {
   "cell_type": "markdown",
   "metadata": {},
   "source": [
    "Below, we will create a scatter plot of the number of votes for Coderre against that for Joly. Scatterplots are always good to compare two variables to one another.\n",
    "\n",
    "One great thing about Plotly is that it is interactive (e.g. can show information as we hover, can have sliders, etc.)."
   ]
  },
  {
   "cell_type": "code",
   "execution_count": null,
   "metadata": {},
   "outputs": [],
   "source": [
    "fig1 = px.scatter(election, \n",
    "                  x=\"Bergeron\", \n",
    "                  y=\"Coderre\", \n",
    "                  hover_data=[\"district\"], \n",
    "                  color=\"winner\", # the variable that specifies the number of colors to use\n",
    "                  size=\"total\")   # the size of each bubble in the plot\n",
    "fig1.show()"
   ]
  },
  {
   "cell_type": "markdown",
   "metadata": {},
   "source": [
    "There are many optional arguments that we can supply to the `px.scatter` function to create many cool features, like regression line, facets, etc. Complete reference: https://plotly.com/python/line-and-scatter/"
   ]
  },
  {
   "cell_type": "markdown",
   "metadata": {},
   "source": [
    "<a id=\"sec3\"></a>\n",
    "## 3. Create a heatmap\n",
    "\n",
    "For this, we will import our own dataset, `positional.json`. This dataset is a dictionary, with ten news sources as its keys. The value of each key is a list of the likelihood of seeing an article from that news source given that we are looking at the the first until tenth positions of the Google's Top Stories panel.\n",
    "\n",
    "This dataset was created from data similar to \"Women for President\" (recall the Analysis Question). In addition to the media source, the 'position' key of each article was used."
   ]
  },
  {
   "cell_type": "code",
   "execution_count": null,
   "metadata": {},
   "outputs": [],
   "source": [
    "with open('positional.json', 'r') as infile:\n",
    "    pos = json.load(infile)\n",
    "print(pos)"
   ]
  },
  {
   "cell_type": "markdown",
   "metadata": {},
   "source": [
    "For the heatmap, the `x` axis will show the first-tenth positions of the articles on Google Top Stories panel. The `y` axis will show the name of the news sources. The saturation/density of the color in each grid (`z`) represents the likelihood of seeing an article from `x` news source given the position `y`.\n",
    "\n",
    "The dataset is presented in matrix form."
   ]
  },
  {
   "cell_type": "code",
   "execution_count": null,
   "metadata": {},
   "outputs": [],
   "source": [
    "fig3 = px.imshow([ii for ii in pos.values()], \n",
    "                 color_continuous_scale=px.colors.diverging.Fall, # the color palette name\n",
    "                x=[1,2,3,4,5,6,7,8,9,10],\n",
    "                y=list(pos.keys()),\n",
    "                labels={\n",
    "                    'x':\"article position\",\n",
    "                    'y':\"news source\"\n",
    "                })\n",
    "fig3.update_xaxes(side=\"top\")\n",
    "\n",
    "fig3.show()"
   ]
  },
  {
   "cell_type": "markdown",
   "metadata": {},
   "source": [
    "If you don't like the colors, you can pick another color palette. Below is the list of all the available palettes:"
   ]
  },
  {
   "cell_type": "code",
   "execution_count": null,
   "metadata": {},
   "outputs": [],
   "source": [
    "dir(px.colors.diverging)"
   ]
  },
  {
   "cell_type": "markdown",
   "metadata": {},
   "source": [
    "### Your Turn\n",
    "\n",
    "Try out different palettes and show below your favorite."
   ]
  },
  {
   "cell_type": "code",
   "execution_count": null,
   "metadata": {},
   "outputs": [],
   "source": []
  },
  {
   "cell_type": "markdown",
   "metadata": {},
   "source": [
    "There are so many other cool things that can be done with plotly, like maps, animations, etc. Be sure to check out https://plotly.com/python/plotly-express/."
   ]
  }
 ],
 "metadata": {
  "kernelspec": {
   "display_name": "Python 3",
   "language": "python",
   "name": "python3"
  },
  "language_info": {
   "codemirror_mode": {
    "name": "ipython",
    "version": 3
   },
   "file_extension": ".py",
   "mimetype": "text/x-python",
   "name": "python",
   "nbconvert_exporter": "python",
   "pygments_lexer": "ipython3",
   "version": "3.7.7"
  }
 },
 "nbformat": 4,
 "nbformat_minor": 4
}
