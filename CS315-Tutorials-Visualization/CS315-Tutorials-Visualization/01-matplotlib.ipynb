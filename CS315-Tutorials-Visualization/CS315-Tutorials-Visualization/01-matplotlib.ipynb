{
 "cells": [
  {
   "cell_type": "markdown",
   "metadata": {},
   "source": [
    "# Visualization with `matplotlib`\n",
    "\n",
    "    \n",
    "    CREDIT: These notes are based on the book \"Data Science from Scratch\" published by O'Reilly.\n",
    "\n",
    "You can use this notebook while you are reading [Visualizing Data](http://cs.wellesley.edu/~eni/cs234/chapter3-visualize.html).\n",
    "\n",
    "As you have seen in the data science cycle, we'll be doing visualizations for two purposes:  \n",
    "\n",
    "1. data exploration\n",
    "2. communicating data \n",
    "\n",
    "The most well-known Python library for visualizations is `matplotlib`, which was developed as a free, open-source response to Matlab. `matplotlib` is very powerful and can create static visualizations that cannot be easily created with other tools. You can see some of these complex visualizations in the [Matplotlib's Gallery](https://matplotlib.org/gallery.html). However, because `matplotlib` provides a great level of control about every aspect of a visualization, it is not idealf for fast data exploration. Therefore, we will also discuss `seaborn` and `plotly express` (in separate notebooks).\n",
    "\n",
    "**Table of content**\n",
    "1. [Simple Plotting](#sec1)\n",
    "2. [Styles](#sec2)\n",
    "3. [Bar Charts](#sec3)\n",
    "4. [A histogram is a bar plot](#sec4)\n",
    "5. [Line Charts](#sec5)\n",
    "6. [Scatterplots](#sec6)"
   ]
  },
  {
   "cell_type": "markdown",
   "metadata": {},
   "source": [
    "<a id=\"sec1\"></a>\n",
    "## 1. Simple Plotting\n",
    "\n",
    "The library that is involved in plotting is `pyplot`, which is often renamed as `plt`. \n",
    "To create a plot we usually follow three steps:\n",
    "\n",
    "1. Prepare the data as x and y lists or arrays\n",
    "2. Call the appropriate plotting functions with certain arguments for plotting\n",
    "3. Perform decoration of the chart: titles, axes, labels, etc."
   ]
  },
  {
   "cell_type": "code",
   "execution_count": null,
   "metadata": {},
   "outputs": [],
   "source": [
    "from matplotlib import pyplot as plt"
   ]
  },
  {
   "cell_type": "code",
   "execution_count": null,
   "metadata": {},
   "outputs": [],
   "source": [
    "# the x and y data for the 2D plot\n",
    "years = [1950, 1960, 1970, 1980, 1990, 2000, 2010]\n",
    "gdp = [300.2, 543.3, 1075.9, 2862.5, 5979.6, 10289.7, 14958.3] \n",
    "\n",
    "# create a line chart, years on x-axis, gdp on y-axis\n",
    "plt.plot(years, gdp, color='green', marker='o', linestyle='solid') \n",
    "\n",
    "# Reminder: the named parameters above: color, marker, linestyle, can be omitted\n",
    "# and the statement can be written as: plt.plot(years, gdp, 'go-') \n",
    "\n",
    "# add a title\n",
    "plt.title(\"Nominal GDP\")\n",
    "\n",
    "# add labels for the axes\n",
    "plt.xlabel(\"Year\")\n",
    "plt.ylabel(\"Billions of $\")\n",
    "plt.show()"
   ]
  },
  {
   "cell_type": "markdown",
   "metadata": {},
   "source": [
    "<a id=\"sec2\"></a>\n",
    "## 2. Styles\n",
    "The classic style of `matplotlib` leaves much to desire. Starting with version 1.5.1, it's possible to style the plots to look differently.  \n",
    "You can check what styles are available as shown below:"
   ]
  },
  {
   "cell_type": "code",
   "execution_count": null,
   "metadata": {},
   "outputs": [],
   "source": [
    "print(plt.style.available)"
   ]
  },
  {
   "cell_type": "markdown",
   "metadata": {},
   "source": [
    "To choose one of these styles, use the instruction below:"
   ]
  },
  {
   "cell_type": "code",
   "execution_count": null,
   "metadata": {},
   "outputs": [],
   "source": [
    "plt.style.use('ggplot')"
   ]
  },
  {
   "cell_type": "markdown",
   "metadata": {},
   "source": [
    "Let's replot the graph from above in this ggplot-style. The code hasn't changed, but the environment where the plotting is being done has and as a result the plot will look nicer."
   ]
  },
  {
   "cell_type": "code",
   "execution_count": null,
   "metadata": {},
   "outputs": [],
   "source": [
    "# the x and y data for the 2D plot\n",
    "years = [1950, 1960, 1970, 1980, 1990, 2000, 2010]\n",
    "gdp = [300.2, 543.3, 1075.9, 2862.5, 5979.6, 10289.7, 14958.3] \n",
    "\n",
    "# create a line chart, years on x-axis, gdp on y-axis\n",
    "plt.plot(years, gdp, color='green', marker='o', linestyle='solid') \n",
    "\n",
    "# add a title\n",
    "plt.title(\"Nominal GDP\")\n",
    "\n",
    "# add labels for the axes\n",
    "plt.xlabel(\"Year\")\n",
    "plt.ylabel(\"Billions of $\")\n",
    "plt.show()"
   ]
  },
  {
   "cell_type": "markdown",
   "metadata": {},
   "source": [
    "<a id=\"sec3\"></a>\n",
    "## 3. Bar Charts\n",
    "A bar chart is a good choice when you want to show how some quantity varies among some discrete set of items. "
   ]
  },
  {
   "cell_type": "code",
   "execution_count": null,
   "metadata": {},
   "outputs": [],
   "source": [
    "# data\n",
    "movies = [\"Annie Hall\", \"Ben-Hur\", \"Casablanca\", \"Gandhi\", \"West Side Story\"]\n",
    "numOscars = [5, 11, 3, 8, 10]\n",
    "\n",
    "# when plotting bars, the x-axis doesn't have numerical values, we need to generate them\n",
    "# this is why we use range(len(movies)) in the line below\n",
    "plt.bar(range(len(movies)), numOscars)\n",
    "plt.ylabel(\"# of Academy Awards\")\n",
    "plt.title(\"My Favorite Movies\")\n",
    "\n",
    "# label x-axis with movie names by providing indices 0, 1, 2, etc. and labels for each tick\n",
    "plt.xticks(range(len(movies)), movies)\n",
    "plt.show()"
   ]
  },
  {
   "cell_type": "markdown",
   "metadata": {},
   "source": [
    "<a id=\"sec4\"></a>\n",
    "## 4. A histogram is a bar plot\n",
    "\n",
    "A histogram represents the distribution of some numerical data. It's often used to summarize data.  \n",
    "`matplotlib` has a method `.hist()` that will automatically generate a histogram from a list of data points,  \n",
    "as shown in the following example:"
   ]
  },
  {
   "cell_type": "code",
   "execution_count": null,
   "metadata": {},
   "outputs": [],
   "source": [
    "grades = [83, 95, 91, 87, 70, 0, 85, 82, 100, 67, 73, 77, 0]\n",
    "plt.hist(grades)\n",
    "plt.show()"
   ]
  },
  {
   "cell_type": "markdown",
   "metadata": {},
   "source": [
    "You can use this method whenever you want to quickly show the data."
   ]
  },
  {
   "cell_type": "markdown",
   "metadata": {},
   "source": [
    "Visually, a histogram is a bar chart. Indeed, one can create even more sophisticated histograms  \n",
    "by using the `bar()` function directly as shown in the example below. \n",
    "\n",
    "However, in order to create the histogram, we first need to specify the values for each bin.  \n",
    "Here is some efficient Python code to do it:"
   ]
  },
  {
   "cell_type": "code",
   "execution_count": null,
   "metadata": {},
   "outputs": [],
   "source": [
    "from collections import Counter\n",
    "\n",
    "grades = [83, 95, 91, 87, 70, 0, 85, 82, 100, 67, 73, 77, 0]\n",
    "\n",
    "# create a lambda function to get the decile of a number. \n",
    "# For example, 85 will be converted to 80, and so on.\n",
    "decile = lambda value: (value // 10) * 10 # notice integer division operator // that floors a value\n",
    "\n",
    "histogram = Counter([decile(grade) for grade in grades])\n",
    "print(histogram)"
   ]
  },
  {
   "cell_type": "markdown",
   "metadata": {},
   "source": [
    "So, the variable `histogram` contains the deciles as keys, and the counts for each decile as values. We will use the keys of the dictionary as x-values and the values of the dictionary as y-values for the bar chart."
   ]
  },
  {
   "cell_type": "code",
   "execution_count": null,
   "metadata": {},
   "outputs": [],
   "source": [
    "plt.bar(histogram.keys(),                  # specify x-axis values\n",
    "        histogram.values(),                # specify y-axis values\n",
    "        8,                                 # give each bar a width of 8\n",
    "        color='darkred')                   # color for bars.\n",
    "\n",
    "plt.axis([-5, 105, 0, 5])                  # x-axis from -5 to 105, y-axis from 0 to 5\n",
    "plt.xticks([10 * i for i in range(11)])    # x-axis labels at 0, 10, ..., 100\n",
    "plt.xlabel(\"Decile\")\n",
    "plt.ylabel(\"# of Students\") \n",
    "plt.title(\"Distribution of Exam 1 Grades\") \n",
    "plt.show()"
   ]
  },
  {
   "cell_type": "markdown",
   "metadata": {},
   "source": [
    "Hopefully you agree that this histogram looks nicer than the one created by the function `hist` above."
   ]
  },
  {
   "cell_type": "markdown",
   "metadata": {},
   "source": [
    "### Lying with a chart\n",
    "\n",
    "The above example used the `axis` function to set the intervals of values for x and y dimensions.  \n",
    "When someone is trying to mislead the public, they can decide to start the y value at a number different from 0.  \n",
    "See how it looks like in the example below:"
   ]
  },
  {
   "cell_type": "code",
   "execution_count": null,
   "metadata": {},
   "outputs": [],
   "source": [
    "years = [2017, 2018]\n",
    "mentions = [500, 505] \n",
    "\n",
    "plt.bar(years, mentions)\n",
    "plt.xticks(years)\n",
    "plt.ylabel(\"# of times I heard someone say 'data science'\")\n",
    "\n",
    "# misleading y-axis only shows the part above 500\n",
    "plt.axis([2016.5,2018.5,499,506])\n",
    "\n",
    "plt.title(\"Look at the 'Huge' Increase!\")\n",
    "plt.show()"
   ]
  },
  {
   "cell_type": "code",
   "execution_count": null,
   "metadata": {},
   "outputs": [],
   "source": [
    "plt.bar(years, mentions) \n",
    "plt.xticks(years)\n",
    "plt.ylabel(\"# of times I heard someone say 'data science'\")\n",
    "\n",
    "# fair representation for the axis\n",
    "plt.axis([2016.5, 2018.5, 0, 550])\n",
    "plt.title(\"Not So Huge Anymore\")\n",
    "plt.show()"
   ]
  },
  {
   "cell_type": "markdown",
   "metadata": {},
   "source": [
    "<a id=\"sec5\"></a>\n",
    "## 5. Line Charts\n",
    "\n",
    "Line charts are a good visualization for showing trends. Most importantly, we can have multiple lines in  \n",
    "one chart for comparison purposes, as shown in the example below."
   ]
  },
  {
   "cell_type": "code",
   "execution_count": null,
   "metadata": {},
   "outputs": [],
   "source": [
    "# the data points for the lines (the y-axis)\n",
    "variance = [1, 2, 4, 8, 16, 32, 64, 128, 256]\n",
    "biasSquared = [256, 128, 64, 32, 16, 8, 4, 2, 1]\n",
    "totalError = [x + y for x, y in zip(variance, biasSquared)] \n",
    "\n",
    "# an example to show the use of list comprehension and the enumerate function\n",
    "xs = [i for i, _ in enumerate(variance)]\n",
    "\n",
    "# we can make multiple calls to plt.plot\n",
    "# to show multiple series on the same chart\n",
    "plt.plot(xs, variance, 'g-', label='variance')       # green solid line \n",
    "plt.plot(xs, biasSquared, 'r-.', label='bias^2')    # red dot-dashed line \n",
    "plt.plot(xs, totalError, 'b:', label='total error') # blue dotted line\n",
    "\n",
    "# because we've assigned labels to each series \n",
    "# we can get a legend for free\n",
    "# loc = 9 means \"top center\"\n",
    "plt.legend(loc = 9)\n",
    "plt.xlabel(\"model complexity\")\n",
    "plt.title(\"The Bias-Variance Tradeoff\")\n",
    "plt.show()"
   ]
  },
  {
   "cell_type": "markdown",
   "metadata": {},
   "source": [
    "<a id=\"sec6\"></a>\n",
    "## 6. Scatterplots\n",
    "\n",
    "Scatterplots are a good way to visualize the relationship between two paired sets of data.  \n",
    "Below is an example that illustrates the relationship between the numbers of friends a user has and the number of minutes they spend on the website per day."
   ]
  },
  {
   "cell_type": "code",
   "execution_count": null,
   "metadata": {},
   "outputs": [],
   "source": [
    "# changing to a new plot style, just for fun\n",
    "plt.style.use('fivethirtyeight')\n",
    "\n",
    "# data\n",
    "friends = [ 70,  65,  72,  63,  71,  64,  60,  64,  67]\n",
    "minutes = [175, 170, 205, 120, 220, 130, 105, 145, 190]\n",
    "labels =  ['a', 'b', 'c', 'd', 'e', 'f', 'g', 'h', 'i']\n",
    "\n",
    "plt.scatter(friends, minutes)\n",
    "\n",
    "# label each point\n",
    "for label, friend_count, minute_count in zip(labels, friends, minutes): \n",
    "    plt.annotate(label,\n",
    "                 xy = (friend_count, minute_count),   # put the label with its point \n",
    "                 xytext = (5, -5),                    # but slightly offset \n",
    "                 textcoords='offset points')\n",
    "    \n",
    "plt.title(\"Daily Minutes vs. Number of Friends\")\n",
    "plt.xlabel(\"# of friends\")\n",
    "plt.ylabel(\"daily minutes spent on the site\")\n",
    "plt.show()"
   ]
  },
  {
   "cell_type": "markdown",
   "metadata": {},
   "source": [
    "This style is the historical style of the data-driven website [538](https://fivethirtyeight.com/), famous for election predictions."
   ]
  },
  {
   "cell_type": "markdown",
   "metadata": {},
   "source": [
    "### Scatterplot for comparable variables\n",
    "\n",
    "In the example above, the two variables were different, thus, we didn't care for the range of values shown in the graph. However, if we have two comparable variables (e.g., temperatures in two different places, or grades in different exams), allowing matplotlib to automatically choose the scale for the axes might produce a misleading picture, as shown in the example below:"
   ]
  },
  {
   "cell_type": "code",
   "execution_count": null,
   "metadata": {},
   "outputs": [],
   "source": [
    "plt.style.use('seaborn-notebook')\n",
    "\n",
    "test1Grades = [ 99, 90, 85, 97, 80]\n",
    "test2Grades = [100, 85, 60, 90, 70]\n",
    "\n",
    "plt.scatter(test1Grades, test2Grades)\n",
    "\n",
    "plt.title(\"Axes Aren't Comparable\")\n",
    "plt.xlabel(\"test 1 grade\")\n",
    "plt.ylabel(\"test 2 grade\")\n",
    "plt.show()"
   ]
  },
  {
   "cell_type": "markdown",
   "metadata": {},
   "source": [
    "Notice how the ticks in the x-axis are every 2.5 units, but in the y-axis every 5 units and how the graph  \n",
    "conveys that there is more variation (values are more spread out) in the first test.  \n",
    "\n",
    "Changing the scaling with `plt.axis('equal')`, we change how the visualization looks and what it  \n",
    "conveys (i.e., that the variation is bigger in the second test):"
   ]
  },
  {
   "cell_type": "code",
   "execution_count": null,
   "metadata": {},
   "outputs": [],
   "source": [
    "plt.scatter(test1Grades, test2Grades)\n",
    "\n",
    "plt.title(\"Axes Are Comparable\")\n",
    "plt.xlabel(\"test 1 grade\")\n",
    "plt.ylabel(\"test 2 grade\")\n",
    "plt.axis('equal')\n",
    "plt.show()"
   ]
  },
  {
   "cell_type": "markdown",
   "metadata": {},
   "source": [
    "This looks better in terms of the spread of values."
   ]
  }
 ],
 "metadata": {
  "kernelspec": {
   "display_name": "Python 3",
   "language": "python",
   "name": "python3"
  },
  "language_info": {
   "codemirror_mode": {
    "name": "ipython",
    "version": 3
   },
   "file_extension": ".py",
   "mimetype": "text/x-python",
   "name": "python",
   "nbconvert_exporter": "python",
   "pygments_lexer": "ipython3",
   "version": "3.7.7"
  }
 },
 "nbformat": 4,
 "nbformat_minor": 1
}
