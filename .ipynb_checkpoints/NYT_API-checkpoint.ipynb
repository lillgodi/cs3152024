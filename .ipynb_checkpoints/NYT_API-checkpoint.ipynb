{
 "cells": [
  {
   "cell_type": "code",
   "execution_count": 3,
   "id": "c6e8db90",
   "metadata": {},
   "outputs": [],
   "source": [
    "import requests"
   ]
  },
  {
   "cell_type": "code",
   "execution_count": 4,
   "id": "502fedaf",
   "metadata": {},
   "outputs": [
    {
     "name": "stdout",
     "output_type": "stream",
     "text": [
      "https://api.nytimes.com/svc/archive/v1/2020/1.json?api-key=z2ZAgioIGL8W7kWySuJJIxkA7dk8BLCH\n"
     ]
    }
   ],
   "source": [
    "year = \"2020\"\n",
    "month = \"1\"\n",
    "mykey = \"z2ZAgioIGL8W7kWySuJJIxkA7dk8BLCH\"\n",
    "\n",
    "request = f\"https://api.nytimes.com/svc/archive/v1/{year}/{month}.json?api-key={mykey}\"\n",
    "print(request)"
   ]
  },
  {
   "cell_type": "code",
   "execution_count": 6,
   "id": "7cee7679",
   "metadata": {},
   "outputs": [
    {
     "data": {
      "text/plain": [
       "200"
      ]
     },
     "execution_count": 6,
     "metadata": {},
     "output_type": "execute_result"
    }
   ],
   "source": [
    "data = requests.get(request)\n",
    "data.status_code"
   ]
  },
  {
   "cell_type": "code",
   "execution_count": 11,
   "id": "715b5e2b",
   "metadata": {},
   "outputs": [],
   "source": [
    "articles = data.json()\n",
    "docs = articles['response']['docs']"
   ]
  },
  {
   "cell_type": "code",
   "execution_count": 10,
   "id": "3a5ef12a",
   "metadata": {},
   "outputs": [
    {
     "data": {
      "text/plain": [
       "4480"
      ]
     },
     "execution_count": 10,
     "metadata": {},
     "output_type": "execute_result"
    }
   ],
   "source": [
    "len(articles['response']['docs'])"
   ]
  }
 ],
 "metadata": {
  "kernelspec": {
   "display_name": "Python 3 (ipykernel)",
   "language": "python",
   "name": "python3"
  },
  "language_info": {
   "codemirror_mode": {
    "name": "ipython",
    "version": 3
   },
   "file_extension": ".py",
   "mimetype": "text/x-python",
   "name": "python",
   "nbconvert_exporter": "python",
   "pygments_lexer": "ipython3",
   "version": "3.11.5"
  }
 },
 "nbformat": 4,
 "nbformat_minor": 5
}
