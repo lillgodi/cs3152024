{
 "cells": [
  {
   "cell_type": "code",
   "execution_count": 19,
   "id": "260619a7",
   "metadata": {},
   "outputs": [],
   "source": [
    "import requests\n",
    "import pandas as pd"
   ]
  },
  {
   "cell_type": "code",
   "execution_count": 13,
   "id": "3cfc12bb",
   "metadata": {},
   "outputs": [
    {
     "name": "stdout",
     "output_type": "stream",
     "text": [
      "https://api.nytimes.com/svc/archive/v1/2024/2.json?api-key=z2ZAgioIGL8W7kWySuJJIxkA7dk8BLCH\n"
     ]
    }
   ],
   "source": [
    "year = \"2024\"\n",
    "month = \"2\"\n",
    "mykey = \"z2ZAgioIGL8W7kWySuJJIxkA7dk8BLCH\"\n",
    "\n",
    "request = f\"https://api.nytimes.com/svc/archive/v1/{year}/{month}.json?api-key={mykey}\"\n",
    "print(request)"
   ]
  },
  {
   "cell_type": "code",
   "execution_count": 14,
   "id": "8b428ab2",
   "metadata": {},
   "outputs": [
    {
     "data": {
      "text/plain": [
       "200"
      ]
     },
     "execution_count": 14,
     "metadata": {},
     "output_type": "execute_result"
    }
   ],
   "source": [
    "data = requests.get(request)\n",
    "data.status_code"
   ]
  },
  {
   "cell_type": "code",
   "execution_count": 15,
   "id": "a1a440b4",
   "metadata": {},
   "outputs": [],
   "source": [
    "articles = data.json()\n",
    "docs = articles['response']['docs']"
   ]
  },
  {
   "cell_type": "code",
   "execution_count": 16,
   "id": "4f4fd854",
   "metadata": {},
   "outputs": [
    {
     "data": {
      "text/plain": [
       "3791"
      ]
     },
     "execution_count": 16,
     "metadata": {},
     "output_type": "execute_result"
    }
   ],
   "source": [
    "len(docs)"
   ]
  },
  {
   "cell_type": "code",
   "execution_count": 21,
   "id": "5409d006",
   "metadata": {
    "scrolled": true
   },
   "outputs": [],
   "source": [
    "df = pd.DataFrame(docs)"
   ]
  },
  {
   "cell_type": "code",
   "execution_count": 22,
   "id": "05c2f6aa",
   "metadata": {},
   "outputs": [
    {
     "data": {
      "text/plain": [
       "section_name\n",
       "U.S.            734\n",
       "World           513\n",
       "Arts            326\n",
       "Opinion         272\n",
       "Business Day    244\n",
       "Name: count, dtype: int64"
      ]
     },
     "execution_count": 22,
     "metadata": {},
     "output_type": "execute_result"
    }
   ],
   "source": [
    "df['section_name'].value_counts()[:5]"
   ]
  }
 ],
 "metadata": {
  "kernelspec": {
   "display_name": "Python 3 (ipykernel)",
   "language": "python",
   "name": "python3"
  },
  "language_info": {
   "codemirror_mode": {
    "name": "ipython",
    "version": 3
   },
   "file_extension": ".py",
   "mimetype": "text/x-python",
   "name": "python",
   "nbconvert_exporter": "python",
   "pygments_lexer": "ipython3",
   "version": "3.11.5"
  }
 },
 "nbformat": 4,
 "nbformat_minor": 5
}
