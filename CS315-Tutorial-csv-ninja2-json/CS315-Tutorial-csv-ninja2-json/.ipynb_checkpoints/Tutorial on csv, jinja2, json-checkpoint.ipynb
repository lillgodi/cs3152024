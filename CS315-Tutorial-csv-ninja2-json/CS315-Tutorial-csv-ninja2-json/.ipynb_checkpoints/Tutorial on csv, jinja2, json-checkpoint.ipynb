{
 "cells": [
  {
   "cell_type": "markdown",
   "metadata": {},
   "source": [
    "# Tutorial on `csv`, `jinja2`, and `json`\n",
    "\n",
    "**Author: Eni Mustafaraj**  \n",
    "\n",
    "In this notebook I will introduce you to some new Python libraries by providing simple examples of working with each of them.\n",
    "\n",
    "**Table of Content**\n",
    "1. [The `csv` module](#sec1)\n",
    "2. [The `jinja2` module (to write HTML files)](#sec2)\n",
    "3. [The `json` module](#sec3)"
   ]
  },
  {
   "cell_type": "markdown",
   "metadata": {},
   "source": [
    "<a id=\"sec1\"></a>\n",
    "## 1: The `csv` module\n",
    "\n",
    "This module makes it really easy to work with CSV files (comma separated files that are usually created with spreadsheet applications like Excel or Google spreadsheets).\n",
    "\n",
    "We will be working with the spreadsheet `hogwarts.csv`, which has a few rows with Hogwarts students. The CSV file is part of the folder for this notebook."
   ]
  },
  {
   "cell_type": "markdown",
   "metadata": {},
   "source": [
    "<img src=\"hogwartsimg.png\" width=\"300\">"
   ]
  },
  {
   "cell_type": "markdown",
   "metadata": {},
   "source": [
    "There are two ways to read data from a CSV file:\n",
    "- as a list of rows\n",
    "- as a list of dictionaries\n",
    "\n",
    "### Method 1: Read a list of rows\n",
    "\n",
    "If we are not interested in the names of the fields, we can read the file one row at a time, and then use indices to access a certain field."
   ]
  },
  {
   "cell_type": "code",
   "execution_count": null,
   "metadata": {},
   "outputs": [],
   "source": [
    "import csv\n",
    "with open(\"hogwarts.csv\") as fileToRead: # open file to read\n",
    "    csvReader = csv.reader(fileToRead)   # create reader object\n",
    "    rows = [row for row in csvReader]    # do the reading of each row with list comprehension\n",
    "print(rows)"
   ]
  },
  {
   "cell_type": "markdown",
   "metadata": {},
   "source": [
    "Let's collect the houses:"
   ]
  },
  {
   "cell_type": "code",
   "execution_count": null,
   "metadata": {},
   "outputs": [],
   "source": [
    "houses = [row[2] for row in rows[1:]] # avoid the first row that has the column names\n",
    "print(houses)"
   ]
  },
  {
   "cell_type": "markdown",
   "metadata": {},
   "source": [
    "### Method 2: Read a list of dictionaries\n",
    "\n",
    "If we want to keep the rows as key:value pairs of column name and value, we can create a `DictReader` object to do this:"
   ]
  },
  {
   "cell_type": "code",
   "execution_count": null,
   "metadata": {},
   "outputs": [],
   "source": [
    "with open(\"hogwarts.csv\") as fileToRead:     # open file to read\n",
    "    csvReader = csv.DictReader(fileToRead)   # create reader object\n",
    "    rows = [row for row in csvReader]        # do the reading of each row\n",
    "\n",
    "for row in rows:\n",
    "    print(row)"
   ]
  },
  {
   "cell_type": "markdown",
   "metadata": {},
   "source": [
    "You can notice that each row is an `OrderedDict`, a more sophisticated data structure than a normal dictionary, because it preserves the order in which the values appear (something that normal dictionaries don't do)."
   ]
  },
  {
   "cell_type": "code",
   "execution_count": null,
   "metadata": {},
   "outputs": [],
   "source": [
    "# Print all the names\n",
    "\n",
    "for row in rows:\n",
    "    print(row['Name'])"
   ]
  },
  {
   "cell_type": "markdown",
   "metadata": {},
   "source": [
    "### Write into a CSV file\n",
    "\n",
    "Often we want to do the opposite task, write into a CSV some data that we have generated or processed. In this example, I will add a new column and new row to the Hogwarts example and store it into a new CSV file."
   ]
  },
  {
   "cell_type": "code",
   "execution_count": null,
   "metadata": {},
   "outputs": [],
   "source": [
    "# Adding a new Hogwarts student\n",
    "\n",
    "from collections import OrderedDict\n",
    "harry = OrderedDict({'Name': 'Harry Potter', \n",
    "                     'Classyear': '2023', \n",
    "                     'House': 'Gryffindor'})\n",
    "rows.append(harry)"
   ]
  },
  {
   "cell_type": "markdown",
   "metadata": {},
   "source": [
    "We will know add a new column to the data (meaning a new key:value pair in the dictionary). The new key we will add is the last name of each person, only for illustration purposes."
   ]
  },
  {
   "cell_type": "code",
   "execution_count": null,
   "metadata": {},
   "outputs": [],
   "source": [
    "for student in rows:\n",
    "    student['Lastname'] = student['Name'].split(' ')[-1] # use -1 to get the last element, in case middle name present\n",
    "    print(student)\n"
   ]
  },
  {
   "cell_type": "markdown",
   "metadata": {},
   "source": [
    "Writing into a CSV file is very similar to reading from it:"
   ]
  },
  {
   "cell_type": "code",
   "execution_count": null,
   "metadata": {},
   "outputs": [],
   "source": [
    "with open(\"hogwarts-big.csv\", 'w') as fileToWrite:\n",
    "    csvWriter = csv.DictWriter(fileToWrite, \n",
    "                               fieldnames=rows[0].keys()) # get the key names as column names\n",
    "    \n",
    "    csvWriter.writeheader() # write the column names\n",
    "    csvWriter.writerows(rows) # write all rows"
   ]
  },
  {
   "cell_type": "markdown",
   "metadata": {},
   "source": [
    "You should find the new file \"hogwarts-big.csv\" in your folder."
   ]
  },
  {
   "cell_type": "markdown",
   "metadata": {},
   "source": [
    "**Note:** All the functions and methods used in this example have more parameters, which are useful in various situations, you should consult the online documentation to learn about special cases, when necessary."
   ]
  },
  {
   "cell_type": "markdown",
   "metadata": {},
   "source": [
    "<a id=\"sec2\"></a>\n",
    "## 2. The `jinja2` module\n",
    "\n",
    "`jinja2` is a Python library that implements the Jinja templating language. What does that mean? Think of madlibs, you write a template that has empty slots which have to be filled. That is the job of Jinja. \n",
    "\n",
    "Jinja has its own syntax that is mixed with HTML code and by combining the template with data produces HTML code.\n",
    "\n",
    "In its simplest version, jinja2 works as the `format` string method:"
   ]
  },
  {
   "cell_type": "code",
   "execution_count": null,
   "metadata": {},
   "outputs": [],
   "source": [
    "from jinja2 import Template\n",
    "t = Template(\"Hello {{ name }}!\")\n",
    "t.render(name=\"Hermione\")"
   ]
  },
  {
   "cell_type": "markdown",
   "metadata": {},
   "source": [
    "It's possible to have many named slots in the template and pass the arguments via a dictionary:"
   ]
  },
  {
   "cell_type": "code",
   "execution_count": null,
   "metadata": {},
   "outputs": [],
   "source": [
    "personDict = {'name': 'Hermione', \n",
    "              'house': 'Gryffindor', \n",
    "              'country': 'France'}\n",
    "\n",
    "t = Template(\"{{ name }} comes from {{ country }} and will live in {{ house}}.\")\n",
    "t.render(personDict)"
   ]
  },
  {
   "cell_type": "markdown",
   "metadata": {},
   "source": [
    "The power of `jinja2` comes to display when we use it with HTML code that has lots of repeating items, for which we can create a simple template. Below is an example that makes use of the CSV data from Part 1."
   ]
  },
  {
   "cell_type": "code",
   "execution_count": null,
   "metadata": {},
   "outputs": [],
   "source": [
    "# Step 1: Read the content from CSV as a list of dictionaries\n",
    "\n",
    "with open(\"hogwarts.csv\") as fileToRead:     # open file to read\n",
    "    csvReader = csv.DictReader(fileToRead)   # create reader object\n",
    "    students = [row for row in csvReader] "
   ]
  },
  {
   "cell_type": "code",
   "execution_count": null,
   "metadata": {},
   "outputs": [],
   "source": [
    "students[0]"
   ]
  },
  {
   "cell_type": "code",
   "execution_count": null,
   "metadata": {},
   "outputs": [],
   "source": [
    "# Step 2: Create the HTML template\n",
    "\n",
    "htmlTemplate = \"\"\"\n",
    "<DOCTYPE html>\n",
    "<html>\n",
    "    <head><title>Hogwarts Students</title></head>\n",
    "    <body>\n",
    "        <h1>Students at Hogwarts</h1>\n",
    "        <ul>\n",
    "        {% for st in studentsList %}\n",
    "            <li class=\"student\">{{ st['Name'] }}, Class of {{ st['Classyear'] }}, resides in {{ st['House']}}.</li> \n",
    "        {% endfor %}\n",
    "        </ul>\n",
    "    </body>\n",
    "</html>\n",
    "\"\"\"\n",
    "\n",
    "tempObj = Template(htmlTemplate)"
   ]
  },
  {
   "cell_type": "code",
   "execution_count": null,
   "metadata": {},
   "outputs": [],
   "source": [
    "# Step 3: Render the template by passing as an argument the list of objects.\n",
    "\n",
    "result = tempObj.render(studentsList=students)\n",
    "print(result)"
   ]
  },
  {
   "cell_type": "markdown",
   "metadata": {},
   "source": [
    "**Note:** It's possible for the original HTML template to be in a text file that is read into the program. Additionally, once we create an HTML string, we can save that into an HTML file."
   ]
  },
  {
   "cell_type": "code",
   "execution_count": null,
   "metadata": {},
   "outputs": [],
   "source": [
    "with open('hogwarts.html', 'w') as outFile:\n",
    "    outFile.write(result)"
   ]
  },
  {
   "cell_type": "markdown",
   "metadata": {},
   "source": [
    "Jinja2 can do much more, but this might be sufficient for this time. Feel free to find web materials to explore this templating language in more details, especially if you plan to create web applications with many pages that read their data from databases."
   ]
  },
  {
   "cell_type": "markdown",
   "metadata": {},
   "source": [
    "<a id=\"sec3\"></a>\n",
    "## 3. The `json` module\n",
    "\n",
    "JSON stands for Javascript Object Notation and is one of the most useful technologies of the web, because allows data to be exchanged between clients and servers so that the data rendering can be done on the client-side, instead of the server. For example, the HTML page with `jinja2` that we create above needs to be created on the server, because Python runs on the server. Meanwhile, it's possible to write HTML pages that use Javascript code and the server sends only a JSON file to the client, instead of the static HTML page. \n",
    "\n",
    "JSON objects can be strings, lists, and dictionaries, but not Python objects. \n",
    "\n",
    "There are four operations to perform on them:\n",
    "- dump the data on a file (function `dump`)\n",
    "- load the data from a file (function `load`)\n",
    "- dump the data on a string (function `dumps`)\n",
    "- load the data from a string (function `loads`)\n",
    "\n",
    "Below we will use the list of dictionaries from Hogwarts (see Part 2)."
   ]
  },
  {
   "cell_type": "code",
   "execution_count": null,
   "metadata": {},
   "outputs": [],
   "source": [
    "# Dump into a file\n",
    "\n",
    "import json\n",
    "with open('hogwarts-J.json', 'w') as outFile:\n",
    "    json.dump(students, outFile)"
   ]
  },
  {
   "cell_type": "code",
   "execution_count": null,
   "metadata": {},
   "outputs": [],
   "source": [
    "# Load from a file\n",
    "\n",
    "with open('hogwarts-J.json') as inFile:\n",
    "    fromJson = json.load(inFile)\n",
    "    \n",
    "fromJson"
   ]
  },
  {
   "cell_type": "markdown",
   "metadata": {},
   "source": [
    "We can test whether the data we loaded from the file is the same that we dumped into it:"
   ]
  },
  {
   "cell_type": "code",
   "execution_count": null,
   "metadata": {},
   "outputs": [],
   "source": [
    "fromJson == students"
   ]
  },
  {
   "cell_type": "markdown",
   "metadata": {},
   "source": [
    "The two other functions `dumps` and `loads` are very similar, but they operate on strings. Especially `loads` might be usefully when we are gathering data from the Web. We send an HTTP requests that returns a JSON as a string, and we then load the object from that sring."
   ]
  },
  {
   "cell_type": "code",
   "execution_count": null,
   "metadata": {},
   "outputs": [],
   "source": [
    "test = '{\"color\": \"red\", \"flavor\": \"lemon\"}'\n",
    "res = json.loads(test)\n",
    "print(res)"
   ]
  },
  {
   "cell_type": "code",
   "execution_count": null,
   "metadata": {},
   "outputs": [],
   "source": [
    "res['flavor']"
   ]
  },
  {
   "cell_type": "markdown",
   "metadata": {},
   "source": [
    "Notice that if we didn't convert the string `test` above into the dictionary, we wouldn't have been able to access the key `flavor` the way we did. "
   ]
  }
 ],
 "metadata": {
  "kernelspec": {
   "display_name": "Python 3",
   "language": "python",
   "name": "python3"
  },
  "language_info": {
   "codemirror_mode": {
    "name": "ipython",
    "version": 3
   },
   "file_extension": ".py",
   "mimetype": "text/x-python",
   "name": "python",
   "nbconvert_exporter": "python",
   "pygments_lexer": "ipython3",
   "version": "3.7.7"
  }
 },
 "nbformat": 4,
 "nbformat_minor": 4
}
