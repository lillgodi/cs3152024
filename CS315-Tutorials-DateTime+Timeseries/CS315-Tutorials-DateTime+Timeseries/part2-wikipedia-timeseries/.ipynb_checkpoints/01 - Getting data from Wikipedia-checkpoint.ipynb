{
 "cells": [
  {
   "cell_type": "markdown",
   "metadata": {},
   "source": [
    "# Getting Data from Wikipedia\n",
    " \n",
    "This short notebook shows how to work with the **mwclient** library to exlore the content of Wikipedia pages. It's an example of a API wrapper, that facilitates working with the underlying API, the [MediaWikiAPI](https://www.mediawiki.org/wiki/API:Main_page).\n",
    "\n",
    "Once you learn how to use the library, you will complete a task that collects revisions for a particular Wikipedia page to be used later.\n",
    "\n",
    "**Table of Content**\n",
    "1. [Installing the `mwclient` module](#sec1)\n",
    "2. [Connecting to a site and working with pages](#sec2)\n",
    "3. [The Wellesley College page](#sec3)\n",
    "4. [Exploring Wellesley's Wiki page revisions](#sec4)\n",
    "5. **[Tasks for you: Dobbs v. Jackson](#sec5)**"
   ]
  },
  {
   "cell_type": "markdown",
   "metadata": {},
   "source": [
    "## 1. Installing the `mwclient` module\n",
    "\n",
    "In this notebook I've used the module [mwclient](http://mwclient.readthedocs.io/en/latest/index.html). The name stands for \"Media Wiki Client\". It's a library to access the Wikipedia pages through Python.\n",
    "\n",
    "Since this is your first time using this library, you have to install it first.  \n",
    "**Note:** Older notebook versions might require the use of the exclamation mark symbol before `pip`."
   ]
  },
  {
   "cell_type": "code",
   "execution_count": null,
   "metadata": {},
   "outputs": [],
   "source": [
    "pip install mwclient"
   ]
  },
  {
   "cell_type": "code",
   "execution_count": null,
   "metadata": {},
   "outputs": [],
   "source": [
    "# check if module is installed\n",
    "import mwclient"
   ]
  },
  {
   "cell_type": "markdown",
   "metadata": {},
   "source": [
    "<a id=\"sec2\"></a>"
   ]
  },
  {
   "cell_type": "markdown",
   "metadata": {},
   "source": [
    "## 2. Connecting to a wiki site and getting pages\n",
    "\n",
    "There are many wiki websites that are accessed by MediaWikiAPI. We need to provide the URL of the one we will work with, in our case the English Wikipedia."
   ]
  },
  {
   "cell_type": "code",
   "execution_count": null,
   "metadata": {},
   "outputs": [],
   "source": [
    "from mwclient import Site\n",
    "site = Site('en.wikipedia.org')"
   ]
  },
  {
   "cell_type": "markdown",
   "metadata": {},
   "source": [
    "It's possible to search for pages based on a simple query term, given that we will search within the `site`:"
   ]
  },
  {
   "cell_type": "code",
   "execution_count": null,
   "metadata": {},
   "outputs": [],
   "source": [
    "page = site.pages['Wellesley']\n",
    "page"
   ]
  },
  {
   "cell_type": "markdown",
   "metadata": {},
   "source": [
    "And we can read the text of the page, which in this case appears to be a disambiguation page with links to many pages that contain the word \"Wellesley\":"
   ]
  },
  {
   "cell_type": "code",
   "execution_count": null,
   "metadata": {},
   "outputs": [],
   "source": [
    "page.text()"
   ]
  },
  {
   "cell_type": "markdown",
   "metadata": {},
   "source": [
    "### 2.a What else does a page contain?\n",
    "\n",
    "Let's looks at some properties that the page contains:"
   ]
  },
  {
   "cell_type": "markdown",
   "metadata": {},
   "source": [
    "**Categories:** Most pages in Wikipedia are assigned categories, which we can access:"
   ]
  },
  {
   "cell_type": "code",
   "execution_count": null,
   "metadata": {},
   "outputs": [],
   "source": [
    "for cat in page.categories():\n",
    "    print(cat)"
   ]
  },
  {
   "cell_type": "markdown",
   "metadata": {},
   "source": [
    "**Links:** A page has many links to other Wikipedia pages, we can access them too:"
   ]
  },
  {
   "cell_type": "code",
   "execution_count": null,
   "metadata": {},
   "outputs": [],
   "source": [
    "links = [l for l in page.links()]\n",
    "links[:5]"
   ]
  },
  {
   "cell_type": "markdown",
   "metadata": {},
   "source": [
    "**IMPORTANT - Lazy behavior:** Simply calling the method `links` on the page object will not give us the list of links:"
   ]
  },
  {
   "cell_type": "code",
   "execution_count": null,
   "metadata": {},
   "outputs": [],
   "source": [
    "page.links()"
   ]
  },
  {
   "cell_type": "markdown",
   "metadata": {},
   "source": [
    "We need to iterate over this object to get the links, which themselves are objects pointing to the pages."
   ]
  },
  {
   "cell_type": "markdown",
   "metadata": {},
   "source": [
    "### 2.b What's in a page object?\n",
    "\n",
    "As we saw above, each link shows up as a page object in the list of links. This is because these are all Wikipedia articles. Let's verify again that each page is an object:"
   ]
  },
  {
   "cell_type": "code",
   "execution_count": null,
   "metadata": {},
   "outputs": [],
   "source": [
    "type(page)"
   ]
  },
  {
   "cell_type": "markdown",
   "metadata": {},
   "source": [
    "We can use the Python built-in function `dir` to find out what properties or methods we can call on this object:"
   ]
  },
  {
   "cell_type": "code",
   "execution_count": null,
   "metadata": {},
   "outputs": [],
   "source": [
    "onePage = links[10]\n",
    "print(dir(onePage))"
   ]
  },
  {
   "cell_type": "markdown",
   "metadata": {},
   "source": [
    "Let's try out some of the properties:"
   ]
  },
  {
   "cell_type": "code",
   "execution_count": null,
   "metadata": {},
   "outputs": [],
   "source": [
    "# length of page in characters\n",
    "onePage.length"
   ]
  },
  {
   "cell_type": "code",
   "execution_count": null,
   "metadata": {},
   "outputs": [],
   "source": [
    "# name of the page\n",
    "onePage.name"
   ]
  },
  {
   "cell_type": "code",
   "execution_count": null,
   "metadata": {},
   "outputs": [],
   "source": [
    "# timestamp of when the page was changed the last time\n",
    "onePage.touched"
   ]
  },
  {
   "cell_type": "markdown",
   "metadata": {},
   "source": [
    "**Note:** Notice the type `time.struct_time` that is used to represent time in Wikipedia. Recall that you learned about the `time` library in Week 3 tasks."
   ]
  },
  {
   "cell_type": "markdown",
   "metadata": {},
   "source": [
    "<a id=\"sec3\"></a>"
   ]
  },
  {
   "cell_type": "markdown",
   "metadata": {},
   "source": [
    "## 3. The Wellesley College page\n",
    "\n",
    "Let's get the Wellesley College page and look at its properties. Instead of searching for \"Wellesley\", let's search for \"Wellesley College\":"
   ]
  },
  {
   "cell_type": "code",
   "execution_count": null,
   "metadata": {},
   "outputs": [],
   "source": [
    "wcp = site.pages['Wellesley College']\n",
    "wcp.name"
   ]
  },
  {
   "cell_type": "markdown",
   "metadata": {},
   "source": [
    "Is it a protected page? Meaning, can anyone edit it, or are there some restrictions in place? In Wikipedia, some pages are protected to prevent vandalism."
   ]
  },
  {
   "cell_type": "code",
   "execution_count": null,
   "metadata": {},
   "outputs": [],
   "source": [
    "wcp.protection"
   ]
  },
  {
   "cell_type": "markdown",
   "metadata": {},
   "source": [
    "No, it's not. But, we can easily find a page that is protected:"
   ]
  },
  {
   "cell_type": "code",
   "execution_count": null,
   "metadata": {},
   "outputs": [],
   "source": [
    "hcp = site.pages['Hillary Clinton']\n",
    "hcp.name"
   ]
  },
  {
   "cell_type": "code",
   "execution_count": null,
   "metadata": {},
   "outputs": [],
   "source": [
    "hcp.protection"
   ]
  },
  {
   "cell_type": "markdown",
   "metadata": {},
   "source": [
    "Notice that the result this time looks different from that of the Wellesley page. For example, only **autoconfirmed** users can edit the page. You can learn more about levels of user access on Wikipedia [in this page](https://en.wikipedia.org/wiki/Wikipedia:User_access_levels)."
   ]
  },
  {
   "cell_type": "markdown",
   "metadata": {},
   "source": [
    "When it was the last time that Wellesley's page was edited?"
   ]
  },
  {
   "cell_type": "code",
   "execution_count": null,
   "metadata": {},
   "outputs": [],
   "source": [
    "wcp.touched # last time it was edited"
   ]
  },
  {
   "cell_type": "markdown",
   "metadata": {},
   "source": [
    "What is the length of the page in characters?"
   ]
  },
  {
   "cell_type": "code",
   "execution_count": null,
   "metadata": {},
   "outputs": [],
   "source": [
    "wcp.length # length of page in characters"
   ]
  },
  {
   "cell_type": "markdown",
   "metadata": {},
   "source": [
    "Get external links from this page (links that go outside Wikipedia):"
   ]
  },
  {
   "cell_type": "code",
   "execution_count": null,
   "metadata": {},
   "outputs": [],
   "source": [
    "extlinks = [el for el in wcp.extlinks()]\n",
    "len(extlinks)"
   ]
  },
  {
   "cell_type": "code",
   "execution_count": null,
   "metadata": {},
   "outputs": [],
   "source": [
    "extlinks[:10]"
   ]
  },
  {
   "cell_type": "markdown",
   "metadata": {},
   "source": [
    "Find all Wikipedia pages that link to Wellesley College, these are known as **backlinks**:"
   ]
  },
  {
   "cell_type": "code",
   "execution_count": null,
   "metadata": {},
   "outputs": [],
   "source": [
    "backlinks = [el for el in wcp.backlinks()]\n",
    "len(backlinks)"
   ]
  },
  {
   "cell_type": "markdown",
   "metadata": {},
   "source": [
    "That is a lot of backlinks that point to the Wellesley College page from other Wikipedia pages!"
   ]
  },
  {
   "cell_type": "code",
   "execution_count": null,
   "metadata": {},
   "outputs": [],
   "source": [
    "backlinks[:10]"
   ]
  },
  {
   "cell_type": "markdown",
   "metadata": {},
   "source": [
    "Finally, look at the links from this page to other Wikipedia pages:"
   ]
  },
  {
   "cell_type": "code",
   "execution_count": null,
   "metadata": {},
   "outputs": [],
   "source": [
    "links = [el for el in wcp.links()]\n",
    "len(links)"
   ]
  },
  {
   "cell_type": "code",
   "execution_count": null,
   "metadata": {},
   "outputs": [],
   "source": [
    "links[:10]"
   ]
  },
  {
   "cell_type": "markdown",
   "metadata": {},
   "source": [
    "We can say that more pages link to Wellesley College than vice-versa.\n",
    "\n",
    "**IMPORTANT:** The links to other pages are useful to find things that are related. Even better are reciprocal links: pages that point to each-other."
   ]
  },
  {
   "cell_type": "markdown",
   "metadata": {},
   "source": [
    "<a id=\"sec4\"></a>\n",
    "## 4. Exploring the Wellesley page revisions\n",
    "\n",
    "We can see that the object `page` has two properties, `revision` and `revisions`, let's look at them:"
   ]
  },
  {
   "cell_type": "code",
   "execution_count": null,
   "metadata": {},
   "outputs": [],
   "source": [
    "wcp.revision"
   ]
  },
  {
   "cell_type": "code",
   "execution_count": null,
   "metadata": {},
   "outputs": [],
   "source": [
    "wcp.revisions"
   ]
  },
  {
   "cell_type": "markdown",
   "metadata": {},
   "source": [
    "The message shows that `revisions` is a method, not a property, we'll need parens to access it:"
   ]
  },
  {
   "cell_type": "code",
   "execution_count": null,
   "metadata": {},
   "outputs": [],
   "source": [
    "wcp.revisions()"
   ]
  },
  {
   "cell_type": "markdown",
   "metadata": {},
   "source": [
    "We can see the pattern now, most functions return **lazy objects**, because the user might not be interested in everything.  \n",
    "\n",
    "**Get all revisions:** We can get all revisions we want by looping through the list iterator. This might take a few seconds."
   ]
  },
  {
   "cell_type": "code",
   "execution_count": null,
   "metadata": {},
   "outputs": [],
   "source": [
    "revisions = [rev for rev in wcp.revisions()]\n",
    "len(revisions)"
   ]
  },
  {
   "cell_type": "code",
   "execution_count": null,
   "metadata": {},
   "outputs": [],
   "source": [
    "revisions[:3]"
   ]
  },
  {
   "cell_type": "markdown",
   "metadata": {},
   "source": [
    "### 4.a Find users in revisions\n",
    "\n",
    "Each revision is stored as a Python dictionary, so we can easily extract the users:"
   ]
  },
  {
   "cell_type": "code",
   "execution_count": null,
   "metadata": {},
   "outputs": [],
   "source": [
    "users = [rev['user'] for rev in revisions]"
   ]
  },
  {
   "cell_type": "markdown",
   "metadata": {},
   "source": [
    "We'll use `Counter` to create a dict of users with their counts and then print these users based on the number of edits, with the most common edits at the top:"
   ]
  },
  {
   "cell_type": "code",
   "execution_count": null,
   "metadata": {},
   "outputs": [],
   "source": [
    "from collections import Counter\n",
    "\n",
    "usersDct = Counter(users)\n",
    "usersDct.most_common(10)"
   ]
  },
  {
   "cell_type": "markdown",
   "metadata": {},
   "source": [
    "**Note:** When I taught this class in 2017, CS 234 students edited the Wellesley College page on Wikipedia. \n",
    "\n",
    "\n",
    "Let's check the count of edits for some of CS 234 editors of the page:"
   ]
  },
  {
   "cell_type": "code",
   "execution_count": null,
   "metadata": {},
   "outputs": [],
   "source": [
    "usersDct['Imanh19']"
   ]
  },
  {
   "cell_type": "code",
   "execution_count": null,
   "metadata": {},
   "outputs": [],
   "source": [
    "usersDct['Angelinahli']"
   ]
  },
  {
   "cell_type": "markdown",
   "metadata": {},
   "source": [
    "How many unique users have edited this page?"
   ]
  },
  {
   "cell_type": "code",
   "execution_count": null,
   "metadata": {},
   "outputs": [],
   "source": [
    "print(f\"{len(usersDct)} unique users have edited {len(revisions)} times the {wcp.name} Wikipedia page.\")"
   ]
  },
  {
   "cell_type": "markdown",
   "metadata": {},
   "source": [
    "### 4.b Working with timestamps\n",
    "\n",
    "Each revision contains a timestamp. Let's convert that to a datetime object to make it easier to work with it.  \n",
    "**NOTE:** To make sense of this part, you need to have completed the notebook on working with date & time objects in Week 3 tasks."
   ]
  },
  {
   "cell_type": "code",
   "execution_count": null,
   "metadata": {},
   "outputs": [],
   "source": [
    "ts = revisions[0]['timestamp']\n",
    "ts"
   ]
  },
  {
   "cell_type": "code",
   "execution_count": null,
   "metadata": {},
   "outputs": [],
   "source": [
    "type(ts)"
   ]
  },
  {
   "cell_type": "markdown",
   "metadata": {},
   "source": [
    "The following modules will work together to make the conversion from `timestruct` to `datetime`:"
   ]
  },
  {
   "cell_type": "code",
   "execution_count": null,
   "metadata": {},
   "outputs": [],
   "source": [
    "from time import mktime\n",
    "from datetime import datetime\n",
    "\n",
    "# turn an object from type struct_time to datetime\n",
    "datetime.fromtimestamp(mktime(ts))"
   ]
  },
  {
   "cell_type": "markdown",
   "metadata": {},
   "source": [
    "Now that we have a datetime object, we can do many things:\n",
    "\n",
    "1. group number of revisions by day\n",
    "2. group number of revisions by month or year\n",
    "3. group revisions by user revisions per day"
   ]
  },
  {
   "cell_type": "markdown",
   "metadata": {},
   "source": [
    "A reminder that a datetime object has properties to access values such as year and month:"
   ]
  },
  {
   "cell_type": "code",
   "execution_count": null,
   "metadata": {},
   "outputs": [],
   "source": [
    "dt = datetime.fromtimestamp(mktime(ts))\n",
    "print(dt.year)\n",
    "print(dt.month)\n",
    "print(dt.day)"
   ]
  },
  {
   "cell_type": "markdown",
   "metadata": {},
   "source": [
    "As well as a useful method to return only the date (without the time portion):"
   ]
  },
  {
   "cell_type": "code",
   "execution_count": null,
   "metadata": {},
   "outputs": [],
   "source": [
    "print(dt.date())"
   ]
  },
  {
   "cell_type": "markdown",
   "metadata": {},
   "source": [
    "This is especially useful in the succeeding example."
   ]
  },
  {
   "cell_type": "markdown",
   "metadata": {},
   "source": [
    "**Example: What was the day with most revisions?**\n",
    "\n",
    "First, we convert all timestamps into string dates, just because it is easier to store them than datetime objects."
   ]
  },
  {
   "cell_type": "code",
   "execution_count": null,
   "metadata": {},
   "outputs": [],
   "source": [
    "def createDateTime(timestamp):\n",
    "    \"\"\"convert a timestruct to datetime\"\"\"\n",
    "    return datetime.fromtimestamp(mktime(timestamp))\n",
    "\n",
    "dates = [str(createDateTime(rev['timestamp']).date()) for rev in revisions]\n",
    "\n",
    "# what does str(createDateTime(rev['timestamp']).date()) do?\n",
    "# 1. it call the function createDateTime with each revision's timestamp object\n",
    "# 2. then it applies the method date() on the returned datetime object, to get a date object\n",
    "# 3. it converts the date object into a string\n",
    "\n",
    "dates[:10]"
   ]
  },
  {
   "cell_type": "markdown",
   "metadata": {},
   "source": [
    "**Find days with most edits**\n",
    "\n",
    "We can do this in the same way we found the users with most edits, using the `Counter` constructor:"
   ]
  },
  {
   "cell_type": "code",
   "execution_count": null,
   "metadata": {},
   "outputs": [],
   "source": [
    "datesDct = Counter(dates)\n",
    "datesDct.most_common(10)"
   ]
  },
  {
   "cell_type": "markdown",
   "metadata": {},
   "source": [
    "<a id='sec5'></a>\n",
    "## 5. Tasks for you\n",
    "\n",
    "In this task you will accomplish the following goals:\n",
    "\n",
    "* Get the revisions of the Wiki page on [Dobbs v. Jackson Women's Health Organization](https://en.wikipedia.org/wiki/Dobbs_v._Jackson_Women%27s_Health_Organization), in a similar way as you got the revisions for the Wellesley College page.\n",
    "* Find the number of revisions contributed by each user. Create a dataframe that contains two columns: username and revision count.\n",
    "* Study the first plot in [this Plotly page](https://plotly.com/python/ecdf-plots/), known as the empirical cummulative distribution function plot and create one for the revision count column.\n",
    "* Interpret the plot: What is the eCDF plot telling us about users and Wikipedia revisions? If you have never encountered eCDF, read the [Wiki page](https://en.wikipedia.org/wiki/Empirical_distribution_function) and check out how eCDF looks like for a normal distribution.\n",
    "* Open the file `mcgowan_timestamps.json` in your folder to study its structure. It's basically a list of lists, each of them with two items: name of the editor and timestamp of their revision. Then create a similar JSON file, titled `dobbsVJaksonRevisions.json`, to use in the TimeSeries task. It should contain only the usernames and the timestamps (as datetime strings) of their revisions."
   ]
  },
  {
   "cell_type": "code",
   "execution_count": null,
   "metadata": {},
   "outputs": [],
   "source": []
  },
  {
   "cell_type": "code",
   "execution_count": null,
   "metadata": {},
   "outputs": [],
   "source": []
  },
  {
   "cell_type": "code",
   "execution_count": null,
   "metadata": {},
   "outputs": [],
   "source": []
  }
 ],
 "metadata": {
  "kernelspec": {
   "display_name": "Python 3",
   "language": "python",
   "name": "python3"
  },
  "language_info": {
   "codemirror_mode": {
    "name": "ipython",
    "version": 3
   },
   "file_extension": ".py",
   "mimetype": "text/x-python",
   "name": "python",
   "nbconvert_exporter": "python",
   "pygments_lexer": "ipython3",
   "version": "3.7.7"
  }
 },
 "nbformat": 4,
 "nbformat_minor": 1
}
