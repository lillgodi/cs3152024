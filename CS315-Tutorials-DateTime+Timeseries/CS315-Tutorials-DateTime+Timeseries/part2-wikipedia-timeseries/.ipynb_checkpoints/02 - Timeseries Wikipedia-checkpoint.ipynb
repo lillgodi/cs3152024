{
 "cells": [
  {
   "cell_type": "markdown",
   "metadata": {},
   "source": [
    "# Time Series with `pandas`\n",
    "\n",
    "**Credit:** Notebook created by Eni Mustafaraj, loosely based on Chapter 10 of \"Python for Data Analysis\" by Wes McKinney.\n",
    "\n",
    "\n",
    "**Table of Contents**  \n",
    "1. [Time series basics](#sec2)\n",
    "2. [Indexing and Selection](#sec3)\n",
    "3. [Resampling and Frequency Conversion](#sec4)\n",
    "4. [Wikipedia Revision Timeseries](#sec5)\n",
    "5. [Tasks for you: Dobbs v. Jackson](#sec6)\n",
    "\n",
    "**Introduction**\n",
    "\n",
    "What is a time series? Anything that is **observed or measured** at many points in time.  \n",
    "There are:\n",
    "\n",
    "1. fixed-frequency time series (data points occur at regular intervals)\n",
    "2. irregular time series (no fixed offset between units)\n",
    "\n",
    "**RUNNING Example:** The example time series in this notebook is the one that shows the history of revisions made in the page of the actress [Rose McGowan](https://en.wikipedia.org/wiki/Rose_McGowan). Ms. McGowan was one of the names mentioned in the context of the Harvey Weinstein sexual misconduct allegations in October 2017. Our data contains a list of usernames and timestamps (as strings), stored as a JSON file (which is in the folder of this notebook)."
   ]
  },
  {
   "cell_type": "code",
   "execution_count": null,
   "metadata": {},
   "outputs": [],
   "source": [
    "import json\n",
    "with open('mcgowan_timestamps.json', 'r') as inputFile:\n",
    "    usersAndDates = json.load(inputFile)\n",
    "    \n",
    "print(\"length of revisions:\", len(usersAndDates))"
   ]
  },
  {
   "cell_type": "code",
   "execution_count": null,
   "metadata": {},
   "outputs": [],
   "source": [
    "# look at a few elements\n",
    "usersAndDates[:5]"
   ]
  },
  {
   "cell_type": "markdown",
   "metadata": {},
   "source": [
    "<a id=\"sec1\"></a>"
   ]
  },
  {
   "cell_type": "code",
   "execution_count": null,
   "metadata": {},
   "outputs": [],
   "source": [
    "import pandas as pd\n",
    "from pandas import Series, DataFrame"
   ]
  },
  {
   "cell_type": "markdown",
   "metadata": {},
   "source": [
    "<a id=\"sec2\"></a>\n",
    "## 1. Time series basics\n",
    "\n",
    "The most basic kind of time series in pandas is a `Series` indexed by timestamps. One can use as index a list of `datetime` objects created in Python, for example:"
   ]
  },
  {
   "cell_type": "code",
   "execution_count": null,
   "metadata": {},
   "outputs": [],
   "source": [
    "from datetime import datetime\n",
    "# create a list of 6 date objects\n",
    "dates = [datetime(2021, 1, 2), datetime(2021, 1, 5), datetime(2021, 1, 7),\n",
    "         datetime(2021, 1, 8), datetime(2021, 1, 10), datetime(2021, 1, 12)]"
   ]
  },
  {
   "cell_type": "markdown",
   "metadata": {},
   "source": [
    "We can supply the created list for the `index` parameter:"
   ]
  },
  {
   "cell_type": "code",
   "execution_count": null,
   "metadata": {},
   "outputs": [],
   "source": [
    "import numpy as np\n",
    "ts = Series(np.random.randn(6), index=dates)\n",
    "ts"
   ]
  },
  {
   "cell_type": "markdown",
   "metadata": {},
   "source": [
    "`pandas` creates a new data type for the index column, called `DateTimeIndex`:"
   ]
  },
  {
   "cell_type": "code",
   "execution_count": null,
   "metadata": {},
   "outputs": [],
   "source": [
    "type(ts.index)"
   ]
  },
  {
   "cell_type": "markdown",
   "metadata": {},
   "source": [
    "To see the difference, let's create a simple series object that gets its index automatically from pandas:"
   ]
  },
  {
   "cell_type": "code",
   "execution_count": null,
   "metadata": {},
   "outputs": [],
   "source": [
    "s = Series(np.random.randn(6))\n",
    "s"
   ]
  },
  {
   "cell_type": "code",
   "execution_count": null,
   "metadata": {},
   "outputs": [],
   "source": [
    "type(s.index)"
   ]
  },
  {
   "cell_type": "markdown",
   "metadata": {},
   "source": [
    "### Converting the Wiki data into a time series\n",
    "Let's look now at how to create a `Series` where time is an index for the Wikipedia data we loaded at the start of the notebook. \n",
    "\n",
    "We will use the function `zip` to create two separate columns: one for the timestamps and one for the usernames.\n",
    "The function `zip` in function can be used in two ways: to zip two sequences into one, and to unzip a sequence into two or more sequences. Below are some examples."
   ]
  },
  {
   "cell_type": "code",
   "execution_count": null,
   "metadata": {},
   "outputs": [],
   "source": [
    "# The unzipping feature uses the operator *\n",
    "\n",
    "pairs = [(1, 'a'), (2, 'b'), (3, 'c'), (4, 'd')]\n",
    "numbers, letters = zip(*pairs)\n",
    "print(numbers)\n",
    "print(letters)"
   ]
  },
  {
   "cell_type": "code",
   "execution_count": null,
   "metadata": {},
   "outputs": [],
   "source": [
    "# we can now zip these two sequences again, but in the reverse order\n",
    "\n",
    "list(zip(letters, numbers))"
   ]
  },
  {
   "cell_type": "markdown",
   "metadata": {},
   "source": [
    "Now that we now how the `zip` function works, we can use it to unzip the given data into two separate lists:"
   ]
  },
  {
   "cell_type": "code",
   "execution_count": null,
   "metadata": {},
   "outputs": [],
   "source": [
    "usernames, timestamps = zip(*usersAndDates)\n",
    "usernames[:3], timestamps[:3]"
   ]
  },
  {
   "cell_type": "markdown",
   "metadata": {},
   "source": [
    "The timestamps are as strings, meanwhile, our example above for creating the timeseries, used datetime objects. It turns out, pandas has its own function that takes a string and turns it into a datetimeindex object."
   ]
  },
  {
   "cell_type": "code",
   "execution_count": null,
   "metadata": {},
   "outputs": [],
   "source": [
    "pd.to_datetime(['2017-10-21 09:32:02'])"
   ]
  },
  {
   "cell_type": "markdown",
   "metadata": {},
   "source": [
    "Now that we know this, we can create our timeseries of Wikipedia revisions:"
   ]
  },
  {
   "cell_type": "code",
   "execution_count": null,
   "metadata": {},
   "outputs": [],
   "source": [
    "# time series for revisions\n",
    "tsRevWiki = Series(usernames, index=pd.to_datetime(timestamps))\n",
    "tsRevWiki.head(10)"
   ]
  },
  {
   "cell_type": "markdown",
   "metadata": {},
   "source": [
    "As we saw above in the made-up example with random values, the timestamp column is converted into a `DatetimeIndex` object by `pandas`:"
   ]
  },
  {
   "cell_type": "code",
   "execution_count": null,
   "metadata": {},
   "outputs": [],
   "source": [
    "tsRevWiki.index"
   ]
  },
  {
   "cell_type": "markdown",
   "metadata": {},
   "source": [
    "However, the values inside this index are `Timestamp` instances:"
   ]
  },
  {
   "cell_type": "code",
   "execution_count": null,
   "metadata": {},
   "outputs": [],
   "source": [
    "tsRevWiki.index[0]"
   ]
  },
  {
   "cell_type": "markdown",
   "metadata": {},
   "source": [
    "A `Timestamp` instance has many more methods (useful for analysis) than `datetime` instances:"
   ]
  },
  {
   "cell_type": "code",
   "execution_count": null,
   "metadata": {},
   "outputs": [],
   "source": [
    "print(dir(tsRevWiki.index[0]))"
   ]
  },
  {
   "cell_type": "markdown",
   "metadata": {},
   "source": [
    "For example, notice properties such as `is_month_start`, `weekofyear`, etc."
   ]
  },
  {
   "cell_type": "markdown",
   "metadata": {},
   "source": [
    "<a id=\"sec3\"></a>\n",
    "## 2. Indexing and Selection\n",
    "In a `Series`, if we use the indices 0 to n-1, we access the variable (the column of the Series), not the index:"
   ]
  },
  {
   "cell_type": "code",
   "execution_count": null,
   "metadata": {},
   "outputs": [],
   "source": [
    "tsRevWiki[2]"
   ]
  },
  {
   "cell_type": "markdown",
   "metadata": {},
   "source": [
    "Thus, to access the \"index\" value, we use the `index` attribute:"
   ]
  },
  {
   "cell_type": "code",
   "execution_count": null,
   "metadata": {},
   "outputs": [],
   "source": [
    "tsRevWiki.index[2]"
   ]
  },
  {
   "cell_type": "markdown",
   "metadata": {},
   "source": [
    "If this index value is stored in a variable, it can be used for indexing instead of numbers 0 to n-1.  \n",
    "That is, instead of accessing the values in the column through numbers 0 to n-1, we can access them through their index value:"
   ]
  },
  {
   "cell_type": "code",
   "execution_count": null,
   "metadata": {},
   "outputs": [],
   "source": [
    "moment = tsRevWiki.index[2]\n",
    "tsRevWiki[moment]"
   ]
  },
  {
   "cell_type": "markdown",
   "metadata": {},
   "source": [
    "### Accessing values via dates\n",
    "\n",
    "As we just saw, the primary benefit of a DatetimeIndex is that we can use datetime strings to access data from the series. These can be different valid strings. Let's start with a date (year, month, day):"
   ]
  },
  {
   "cell_type": "code",
   "execution_count": null,
   "metadata": {},
   "outputs": [],
   "source": [
    "tsRevWiki['2017-10-17']"
   ]
  },
  {
   "cell_type": "markdown",
   "metadata": {},
   "source": [
    "This works with incomplete dates as well. Here is with year and month:"
   ]
  },
  {
   "cell_type": "code",
   "execution_count": null,
   "metadata": {},
   "outputs": [],
   "source": [
    "tsRevWiki['2017-10'].head(10) # showing only the first 10 values, because too many"
   ]
  },
  {
   "cell_type": "markdown",
   "metadata": {},
   "source": [
    "This result was long, we can check the size of the subseries:"
   ]
  },
  {
   "cell_type": "code",
   "execution_count": null,
   "metadata": {},
   "outputs": [],
   "source": [
    "tsRevWiki['2017-10'].count()"
   ]
  },
  {
   "cell_type": "markdown",
   "metadata": {},
   "source": [
    "What about the entire year of 2017:"
   ]
  },
  {
   "cell_type": "code",
   "execution_count": null,
   "metadata": {},
   "outputs": [],
   "source": [
    "tsRevWiki['2017'].count()"
   ]
  },
  {
   "cell_type": "markdown",
   "metadata": {},
   "source": [
    "**Conclusion:** pandas provides a powerful way to query a times series through string date values."
   ]
  },
  {
   "cell_type": "markdown",
   "metadata": {},
   "source": [
    "### Exercise: How to find the number of edits by year? \n",
    "We will learn a better method later in this notebook, but here is one that you can do too.  \n",
    "**TIP:** Try to unpack the expressions to see the role of each method."
   ]
  },
  {
   "cell_type": "code",
   "execution_count": null,
   "metadata": {},
   "outputs": [],
   "source": [
    "# find the first year and last year of revisions\n",
    "minR = tsRevWiki.index.min().year      # find min value, get its year\n",
    "maxR = tsRevWiki.index.max().year      # find max value, get its year\n",
    "\n",
    "print(minR, maxR)"
   ]
  },
  {
   "cell_type": "code",
   "execution_count": null,
   "metadata": {},
   "outputs": [],
   "source": [
    "# create a range of years and with a for loop to access the Series\n",
    "\n",
    "for year in range(minR, maxR+1):\n",
    "    print(year, tsRevWiki[str(year)].count())"
   ]
  },
  {
   "cell_type": "markdown",
   "metadata": {},
   "source": [
    "<a id=\"sec4\"></a>"
   ]
  },
  {
   "cell_type": "markdown",
   "metadata": {},
   "source": [
    "## 3. Resampling and Frequency Conversion\n",
    "_Resampling_ refers to the process of converting a time series from one frequency to another. Aggregating higher frequency data  \n",
    "to lower frequency is called _downsampling_ while converting lower frequency to higher frequency is called _upsampling_ .\n",
    "\n",
    "For regular dataseries (or fixed-frequency) dataseries, the frequency is the interval of time between two measurements. For example: measuring the temperature every 6 hours; the blood pressure every week; the stock price at the end of the day, and so on. \n",
    "\n",
    "For irregular data series, like the Wikipedia revisions, which are mostly random (at the will of the editors, though not entirely random, they depend on events in the real world), there is no fixed frequency. In order to study the timeseries though, we might want to use a chosen frequency unit: a day, a week, a month, a year.\n",
    "\n",
    "Before learning how to do that, let's talk about `date_range` and frequency syntax.\n",
    "\n",
    "### The `date_range` function\n",
    "\n",
    "The statements below create a timeseries of random numbers, one number for each day (that is what `freq='D'` means), for a period of 100 days in total."
   ]
  },
  {
   "cell_type": "code",
   "execution_count": null,
   "metadata": {},
   "outputs": [],
   "source": [
    "from numpy.random import randn\n",
    "drange = pd.date_range('1/1/2000', periods=100, freq='D')\n",
    "ts = Series(randn(len(drange)), index=drange)\n",
    "ts.head(10) "
   ]
  },
  {
   "cell_type": "markdown",
   "metadata": {},
   "source": [
    "We can indeed check that we have 100 data points:"
   ]
  },
  {
   "cell_type": "code",
   "execution_count": null,
   "metadata": {},
   "outputs": [],
   "source": [
    "ts.count()"
   ]
  },
  {
   "cell_type": "markdown",
   "metadata": {},
   "source": [
    "There are many values that the parameter `freq` can take, here are some more examples:"
   ]
  },
  {
   "cell_type": "code",
   "execution_count": null,
   "metadata": {},
   "outputs": [],
   "source": [
    "# frequency is 3 days\n",
    "pd.date_range(\"01/01/17\", periods=31, freq=\"3D\")"
   ]
  },
  {
   "cell_type": "markdown",
   "metadata": {},
   "source": [
    "As we can see, 31 days were created, all 3 days apart."
   ]
  },
  {
   "cell_type": "code",
   "execution_count": null,
   "metadata": {},
   "outputs": [],
   "source": [
    "# make the \"frequency step\" to be 90 minutes\n",
    "pd.date_range(\"01/01/17 00:00\", periods=10, freq=\"90min\")"
   ]
  },
  {
   "cell_type": "markdown",
   "metadata": {},
   "source": [
    "If we don't provide a value for the frequency parameter, by default is 'D' for one day. The `date_range` function takes a start and end date, like below:"
   ]
  },
  {
   "cell_type": "code",
   "execution_count": null,
   "metadata": {},
   "outputs": [],
   "source": [
    "pd.date_range('10/10/2019', '10/20/2019')"
   ]
  },
  {
   "cell_type": "markdown",
   "metadata": {},
   "source": [
    "Here is a table that contains all values that can be passed to the `freq` parameter:"
   ]
  },
  {
   "cell_type": "markdown",
   "metadata": {},
   "source": [
    "<img src=\"frequency.png\" width=800>"
   ]
  },
  {
   "cell_type": "markdown",
   "metadata": {},
   "source": [
    "### A resampling example\n",
    "\n",
    "For the timeseries `ts` we created above with random numbes, let's see what resampling does.\n",
    "\n",
    "Because the values were \"recorded\" daily, we will ask for a resampling based on a month:"
   ]
  },
  {
   "cell_type": "code",
   "execution_count": null,
   "metadata": {},
   "outputs": [],
   "source": [
    "ts.resample(\"ME\").mean()"
   ]
  },
  {
   "cell_type": "markdown",
   "metadata": {},
   "source": [
    "Since we are changing the data to go from daily values to a monthly value, once we resample, we have to specify what kind of value we want (mean, sum, max, min, some other function, etc.)"
   ]
  },
  {
   "cell_type": "code",
   "execution_count": null,
   "metadata": {},
   "outputs": [],
   "source": [
    "# let's find the sum for the weekly sample (all data collected in one week)\n",
    "ts.resample(\"W\").sum()"
   ]
  },
  {
   "cell_type": "markdown",
   "metadata": {},
   "source": [
    "<a id=\"sec5\"></a>"
   ]
  },
  {
   "cell_type": "markdown",
   "metadata": {},
   "source": [
    "## 4. Wikipedia Revisions Timeseries\n",
    "\n",
    "As a reminder, we created a series `tsRevWiki` earlier in this notebook, let's look at it again:"
   ]
  },
  {
   "cell_type": "code",
   "execution_count": null,
   "metadata": {},
   "outputs": [],
   "source": [
    "tsRevWiki.head(10)"
   ]
  },
  {
   "cell_type": "markdown",
   "metadata": {},
   "source": [
    "How big is this series:"
   ]
  },
  {
   "cell_type": "code",
   "execution_count": null,
   "metadata": {},
   "outputs": [],
   "source": [
    "tsRevWiki.shape"
   ]
  },
  {
   "cell_type": "markdown",
   "metadata": {},
   "source": [
    "Let's create a timeseries that shows the number of edits by year. We will be resampling using the frequncy 'A' (see table above). Remember that we did this step with a `for` loop earlier in the notebook and got these results:\n",
    "\n",
    "```\n",
    "2003 10\n",
    "2004 24\n",
    "2005 55\n",
    "2006 436\n",
    "2007 638\n",
    "2008 481\n",
    "2009 371\n",
    "2010 301\n",
    "2011 168\n",
    "2012 134\n",
    "2013 138\n",
    "2014 106\n",
    "2015 152\n",
    "2016 95\n",
    "2017 159\n",
    "```"
   ]
  },
  {
   "cell_type": "code",
   "execution_count": null,
   "metadata": {},
   "outputs": [],
   "source": [
    "tsRevWiki.resample('YE').count()"
   ]
  },
  {
   "cell_type": "markdown",
   "metadata": {},
   "source": [
    "### Visualizing a timeseries\n",
    "\n",
    "pandas knows how to plot timeseries automatically, but let's get matplotlib in the namespace, given that it's needed to show the plots."
   ]
  },
  {
   "cell_type": "code",
   "execution_count": null,
   "metadata": {},
   "outputs": [],
   "source": [
    "import matplotlib.pyplot as plt\n",
    "%matplotlib inline\n",
    "plt.style.use('ggplot')"
   ]
  },
  {
   "cell_type": "markdown",
   "metadata": {},
   "source": [
    "Let's store the result into a new series, so that we can call the plot method on it. It's as simple as that:"
   ]
  },
  {
   "cell_type": "code",
   "execution_count": null,
   "metadata": {},
   "outputs": [],
   "source": [
    "revByYear = tsRevWiki.resample('YE').count()\n",
    "revByYear.plot(figsize=(8,5), title=\"Number of revisions by year\")\n",
    "plt.show()"
   ]
  },
  {
   "cell_type": "code",
   "execution_count": null,
   "metadata": {},
   "outputs": [],
   "source": [
    "revByMonth = tsRevWiki.resample('ME').count()\n",
    "revByMonth.plot(figsize=(8,5), title=\"Number of revisions by month\")\n",
    "plt.show()"
   ]
  },
  {
   "cell_type": "markdown",
   "metadata": {},
   "source": [
    "We can always **smooth** the data by making the interval bigger, for example, 3 months:"
   ]
  },
  {
   "cell_type": "code",
   "execution_count": null,
   "metadata": {},
   "outputs": [],
   "source": [
    "revByThreeMonths = tsRevWiki.resample('3ME').count()\n",
    "revByThreeMonths.plot(figsize=(8,5), title=\"Number of revisions quarterly\")\n",
    "plt.show()"
   ]
  },
  {
   "cell_type": "markdown",
   "metadata": {},
   "source": [
    "We can focus on a single year, for example, 2007:"
   ]
  },
  {
   "cell_type": "code",
   "execution_count": null,
   "metadata": {},
   "outputs": [],
   "source": [
    "revsIn2007 = tsRevWiki['2007']\n",
    "revsIn2007Months = revsIn2007.resample('ME').count()\n",
    "revsIn2007Months.plot(title=\"Number of revisions in 2007\", # not using figsize\n",
    "                      x_compat=True # this parameter suppresses how often the xticks are displayed\n",
    "                     ) \n",
    "plt.show()"
   ]
  },
  {
   "cell_type": "markdown",
   "metadata": {},
   "source": [
    "The same way, we can zoom in in the month of October 2017:"
   ]
  },
  {
   "cell_type": "code",
   "execution_count": null,
   "metadata": {},
   "outputs": [],
   "source": [
    "revsOct17 = tsRevWiki['2017-10']\n",
    "revsOct17Day = revsOct17.resample('D').count()\n",
    "revsOct17Day.plot(figsize=(8,5), \n",
    "                  title=\"Number of revisions in 10/2017\",\n",
    "                  x_compat=True)\n",
    "plt.show()"
   ]
  },
  {
   "cell_type": "markdown",
   "metadata": {},
   "source": [
    "### Find most active editing days\n",
    "\n",
    "Given that we can create a series based on daily edit counts, we can find the day with most edits:"
   ]
  },
  {
   "cell_type": "code",
   "execution_count": null,
   "metadata": {},
   "outputs": [],
   "source": [
    "revByDays = tsRevWiki.resample('D').count()\n",
    "revByDays.sort_values(ascending=False).head(10)"
   ]
  },
  {
   "cell_type": "markdown",
   "metadata": {},
   "source": [
    "We can see how 2017/10/13, one of the days in the evolving Harvey Weinstein story, has the second largest number of edits."
   ]
  },
  {
   "cell_type": "markdown",
   "metadata": {},
   "source": [
    "### Find most active editors\n",
    "\n",
    "In order to find editors, we will create a dataframe from the series, in order to use the method `groupby` which works better on dataframes.\n",
    "\n",
    "Notice that we can create the dataframe using the columns of the timeseries tsRevWiki."
   ]
  },
  {
   "cell_type": "code",
   "execution_count": null,
   "metadata": {},
   "outputs": [],
   "source": [
    "dfWiki = DataFrame({'editors': tsRevWiki}, \n",
    "                     index=tsRevWiki.index)\n",
    "dfWiki.head()"
   ]
  },
  {
   "cell_type": "code",
   "execution_count": null,
   "metadata": {},
   "outputs": [],
   "source": [
    "dfWiki.shape"
   ]
  },
  {
   "cell_type": "markdown",
   "metadata": {},
   "source": [
    "Now we can use the method `groupby` that will group together values in the column 'editors', find how often each editor occurs and show that value in a new column, \"total\":"
   ]
  },
  {
   "cell_type": "code",
   "execution_count": null,
   "metadata": {},
   "outputs": [],
   "source": [
    "dfWikiT = dfWiki.groupby('editors').size().reset_index(name=\"total\")\n",
    "dfWikiT.head(10)"
   ]
  },
  {
   "cell_type": "code",
   "execution_count": null,
   "metadata": {},
   "outputs": [],
   "source": [
    "dfWikiT.shape"
   ]
  },
  {
   "cell_type": "markdown",
   "metadata": {},
   "source": [
    "We can see that the number of rows in this new dataframe is smaller, since some editors have more than one edit.\n",
    "\n",
    "By the way, editor names such as 108.2.173.243, refer to the IP address of an editor. If someone edits a Wiki page without using an account, the system automatically captures their IP address."
   ]
  },
  {
   "cell_type": "markdown",
   "metadata": {},
   "source": [
    "Let's sort to find the most prolific editors:"
   ]
  },
  {
   "cell_type": "code",
   "execution_count": null,
   "metadata": {},
   "outputs": [],
   "source": [
    "dfWikiT.sort_values('total', ascending=False)[:10]"
   ]
  },
  {
   "cell_type": "markdown",
   "metadata": {},
   "source": [
    "### Focus on one editor\n",
    "\n",
    "Let's look at the behavior of a single editor, for example, Nymf (third most active):"
   ]
  },
  {
   "cell_type": "code",
   "execution_count": null,
   "metadata": {},
   "outputs": [],
   "source": [
    "oneUser = dfWiki[dfWiki['editors']=='Nymf'] # select from the frame the rows that fulfill the query\n",
    "oneUser.head()"
   ]
  },
  {
   "cell_type": "markdown",
   "metadata": {},
   "source": [
    "We can resample the events by year and plot the timeseries:"
   ]
  },
  {
   "cell_type": "code",
   "execution_count": null,
   "metadata": {},
   "outputs": [],
   "source": [
    "oneUser.resample('YE').count().plot(legend=False, title=\"One user's Wiki editing activity\")\n",
    "plt.show()"
   ]
  },
  {
   "cell_type": "markdown",
   "metadata": {},
   "source": [
    "Similarly, we can do this with grouping by year:"
   ]
  },
  {
   "cell_type": "code",
   "execution_count": null,
   "metadata": {},
   "outputs": [],
   "source": [
    "oneUser.groupby(oneUser.index.year).count()"
   ]
  },
  {
   "cell_type": "markdown",
   "metadata": {},
   "source": [
    "This shows that this user was active on 7 different years."
   ]
  },
  {
   "cell_type": "markdown",
   "metadata": {},
   "source": [
    "### Find page creator\n",
    "\n",
    "Who created the page of Rose McGowan? We can find this info from the time series."
   ]
  },
  {
   "cell_type": "code",
   "execution_count": null,
   "metadata": {},
   "outputs": [],
   "source": [
    "dfWiki.tail(5)"
   ]
  },
  {
   "cell_type": "code",
   "execution_count": null,
   "metadata": {},
   "outputs": [],
   "source": [
    "creator = dfWiki['editors'].iloc[-1]\n",
    "creator"
   ]
  },
  {
   "cell_type": "code",
   "execution_count": null,
   "metadata": {},
   "outputs": [],
   "source": [
    "dfWiki[dfWiki['editors']==creator]"
   ]
  },
  {
   "cell_type": "markdown",
   "metadata": {},
   "source": [
    "This user only created the page and then never returned to make edits to it. Or, they created a username and then used that to do their edits."
   ]
  },
  {
   "cell_type": "markdown",
   "metadata": {},
   "source": [
    "<a id=\"sec5\"></a>\n",
    "\n",
    "## 5. Tasks for you: Dobbs v. Jackson\n",
    "\n",
    "To complete these tasks, you need to have completed that last task on the \"Getting data from Wikipedia\" notebook, which creates a file titled `dobbsVJacksonRevisions.json`. If you have that file, you can continue with the following tasks:\n",
    "\n",
    "1. Load the JSON file.\n",
    "2. Create a timeseries for this data, similarly to what you did for Rose McGowan's page\n",
    "3. Create the visualization of the timeseries for two different frequencies: monthly and daily.\n",
    "4. Comparing the two visualizations from point 3 what is the value of each of them?\n",
    "5. **Challenge:** One of the most interesting visualization of timeseries are [sparklines](https://en.wikipedia.org/wiki/Sparkline). For the five most active users, try to create a sparklines graph using [this Plotly chart](https://plotly.com/python/line-charts/#sparklines-with-plotly-express). [This is challenging, because you'll have to create a new dataframe, which requires some thinking. Try it, if you like a good challenge.]"
   ]
  },
  {
   "cell_type": "code",
   "execution_count": null,
   "metadata": {},
   "outputs": [],
   "source": []
  },
  {
   "cell_type": "code",
   "execution_count": null,
   "metadata": {},
   "outputs": [],
   "source": []
  },
  {
   "cell_type": "code",
   "execution_count": null,
   "metadata": {},
   "outputs": [],
   "source": []
  },
  {
   "cell_type": "markdown",
   "metadata": {},
   "source": [
    "<a id=\"sec6\"></a>"
   ]
  }
 ],
 "metadata": {
  "kernelspec": {
   "display_name": "Python 3 (ipykernel)",
   "language": "python",
   "name": "python3"
  },
  "language_info": {
   "codemirror_mode": {
    "name": "ipython",
    "version": 3
   },
   "file_extension": ".py",
   "mimetype": "text/x-python",
   "name": "python",
   "nbconvert_exporter": "python",
   "pygments_lexer": "ipython3",
   "version": "3.11.5"
  }
 },
 "nbformat": 4,
 "nbformat_minor": 4
}
