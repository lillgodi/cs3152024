{
 "cells": [
  {
   "cell_type": "markdown",
   "metadata": {},
   "source": [
    "# Time Series with `pandas`\n",
    "\n",
    "**Credit:** Notebook created by Eni Mustafaraj, loosely based on Chapter 10 of \"Python for Data Analysis\" by Wes McKinney.\n",
    "\n",
    "\n",
    "**Table of Contents**  \n",
    "1. [Time series basics](#sec2)\n",
    "2. [Indexing and Selection](#sec3)\n",
    "3. [Resampling and Frequency Conversion](#sec4)\n",
    "4. [Wikipedia Revision Timeseries](#sec5)\n",
    "5. [Tasks for you: Dobbs v. Jackson](#sec6)\n",
    "\n",
    "**Introduction**\n",
    "\n",
    "What is a time series? Anything that is **observed or measured** at many points in time.  \n",
    "There are:\n",
    "\n",
    "1. fixed-frequency time series (data points occur at regular intervals)\n",
    "2. irregular time series (no fixed offset between units)\n",
    "\n",
    "**RUNNING Example:** The example time series in this notebook is the one that shows the history of revisions made in the page of the actress [Rose McGowan](https://en.wikipedia.org/wiki/Rose_McGowan). Ms. McGowan was one of the names mentioned in the context of the Harvey Weinstein sexual misconduct allegations in October 2017. Our data contains a list of usernames and timestamps (as strings), stored as a JSON file (which is in the folder of this notebook)."
   ]
  },
  {
   "cell_type": "code",
   "execution_count": 1,
   "metadata": {},
   "outputs": [
    {
     "name": "stdout",
     "output_type": "stream",
     "text": [
      "length of revisions: 3268\n"
     ]
    }
   ],
   "source": [
    "import json\n",
    "with open('mcgowan_timestamps.json', 'r') as inputFile:\n",
    "    usersAndDates = json.load(inputFile)\n",
    "    \n",
    "print(\"length of revisions:\", len(usersAndDates))"
   ]
  },
  {
   "cell_type": "code",
   "execution_count": 2,
   "metadata": {},
   "outputs": [
    {
     "data": {
      "text/plain": [
       "[['RichardBond', '2017-10-21 09:32:02'],\n",
       " ['Eamontopleez', '2017-10-20 11:58:49'],\n",
       " ['Drmies', '2017-10-18 17:50:47'],\n",
       " ['User No. 99', '2017-10-18 01:13:04'],\n",
       " ['Gene2010', '2017-10-18 00:00:14']]"
      ]
     },
     "execution_count": 2,
     "metadata": {},
     "output_type": "execute_result"
    }
   ],
   "source": [
    "# look at a few elements\n",
    "usersAndDates[:5]"
   ]
  },
  {
   "cell_type": "markdown",
   "metadata": {},
   "source": [
    "<a id=\"sec1\"></a>"
   ]
  },
  {
   "cell_type": "code",
   "execution_count": 3,
   "metadata": {},
   "outputs": [],
   "source": [
    "import pandas as pd\n",
    "from pandas import Series, DataFrame"
   ]
  },
  {
   "cell_type": "markdown",
   "metadata": {},
   "source": [
    "<a id=\"sec2\"></a>\n",
    "## 1. Time series basics\n",
    "\n",
    "The most basic kind of time series in pandas is a `Series` indexed by timestamps. One can use as index a list of `datetime` objects created in Python, for example:"
   ]
  },
  {
   "cell_type": "code",
   "execution_count": 4,
   "metadata": {},
   "outputs": [],
   "source": [
    "from datetime import datetime\n",
    "# create a list of 6 date objects\n",
    "dates = [datetime(2021, 1, 2), datetime(2021, 1, 5), datetime(2021, 1, 7),\n",
    "         datetime(2021, 1, 8), datetime(2021, 1, 10), datetime(2021, 1, 12)]"
   ]
  },
  {
   "cell_type": "markdown",
   "metadata": {},
   "source": [
    "We can supply the created list for the `index` parameter:"
   ]
  },
  {
   "cell_type": "code",
   "execution_count": 5,
   "metadata": {},
   "outputs": [
    {
     "data": {
      "text/plain": [
       "2021-01-02    0.293949\n",
       "2021-01-05   -0.076591\n",
       "2021-01-07   -0.924543\n",
       "2021-01-08   -0.162554\n",
       "2021-01-10    0.607913\n",
       "2021-01-12   -0.409017\n",
       "dtype: float64"
      ]
     },
     "execution_count": 5,
     "metadata": {},
     "output_type": "execute_result"
    }
   ],
   "source": [
    "import numpy as np\n",
    "ts = Series(np.random.randn(6), index=dates)\n",
    "ts"
   ]
  },
  {
   "cell_type": "markdown",
   "metadata": {},
   "source": [
    "`pandas` creates a new data type for the index column, called `DateTimeIndex`:"
   ]
  },
  {
   "cell_type": "code",
   "execution_count": 6,
   "metadata": {},
   "outputs": [
    {
     "data": {
      "text/plain": [
       "pandas.core.indexes.datetimes.DatetimeIndex"
      ]
     },
     "execution_count": 6,
     "metadata": {},
     "output_type": "execute_result"
    }
   ],
   "source": [
    "type(ts.index)"
   ]
  },
  {
   "cell_type": "markdown",
   "metadata": {},
   "source": [
    "To see the difference, let's create a simple series object that gets its index automatically from pandas:"
   ]
  },
  {
   "cell_type": "code",
   "execution_count": 7,
   "metadata": {},
   "outputs": [
    {
     "data": {
      "text/plain": [
       "0    0.813665\n",
       "1    1.071885\n",
       "2    1.345403\n",
       "3    1.833630\n",
       "4   -0.593156\n",
       "5    0.018098\n",
       "dtype: float64"
      ]
     },
     "execution_count": 7,
     "metadata": {},
     "output_type": "execute_result"
    }
   ],
   "source": [
    "s = Series(np.random.randn(6))\n",
    "s"
   ]
  },
  {
   "cell_type": "code",
   "execution_count": 8,
   "metadata": {},
   "outputs": [
    {
     "data": {
      "text/plain": [
       "pandas.core.indexes.range.RangeIndex"
      ]
     },
     "execution_count": 8,
     "metadata": {},
     "output_type": "execute_result"
    }
   ],
   "source": [
    "type(s.index)"
   ]
  },
  {
   "cell_type": "markdown",
   "metadata": {},
   "source": [
    "### Converting the Wiki data into a time series\n",
    "Let's look now at how to create a `Series` where time is an index for the Wikipedia data we loaded at the start of the notebook. \n",
    "\n",
    "We will use the function `zip` to create two separate columns: one for the timestamps and one for the usernames.\n",
    "The function `zip` in function can be used in two ways: to zip two sequences into one, and to unzip a sequence into two or more sequences. Below are some examples."
   ]
  },
  {
   "cell_type": "code",
   "execution_count": 9,
   "metadata": {},
   "outputs": [
    {
     "name": "stdout",
     "output_type": "stream",
     "text": [
      "(1, 2, 3, 4)\n",
      "('a', 'b', 'c', 'd')\n"
     ]
    }
   ],
   "source": [
    "# The unzipping feature uses the operator *\n",
    "\n",
    "pairs = [(1, 'a'), (2, 'b'), (3, 'c'), (4, 'd')]\n",
    "numbers, letters = zip(*pairs)\n",
    "print(numbers)\n",
    "print(letters)"
   ]
  },
  {
   "cell_type": "code",
   "execution_count": 10,
   "metadata": {},
   "outputs": [
    {
     "data": {
      "text/plain": [
       "[('a', 1), ('b', 2), ('c', 3), ('d', 4)]"
      ]
     },
     "execution_count": 10,
     "metadata": {},
     "output_type": "execute_result"
    }
   ],
   "source": [
    "# we can now zip these two sequences again, but in the reverse order\n",
    "\n",
    "list(zip(letters, numbers))"
   ]
  },
  {
   "cell_type": "markdown",
   "metadata": {},
   "source": [
    "Now that we now how the `zip` function works, we can use it to unzip the given data into two separate lists:"
   ]
  },
  {
   "cell_type": "code",
   "execution_count": 11,
   "metadata": {},
   "outputs": [
    {
     "data": {
      "text/plain": [
       "(('RichardBond', 'Eamontopleez', 'Drmies'),\n",
       " ('2017-10-21 09:32:02', '2017-10-20 11:58:49', '2017-10-18 17:50:47'))"
      ]
     },
     "execution_count": 11,
     "metadata": {},
     "output_type": "execute_result"
    }
   ],
   "source": [
    "usernames, timestamps = zip(*usersAndDates)\n",
    "usernames[:3], timestamps[:3]"
   ]
  },
  {
   "cell_type": "markdown",
   "metadata": {},
   "source": [
    "The timestamps are as strings, meanwhile, our example above for creating the timeseries, used datetime objects. It turns out, pandas has its own function that takes a string and turns it into a datetimeindex object."
   ]
  },
  {
   "cell_type": "code",
   "execution_count": 12,
   "metadata": {},
   "outputs": [
    {
     "data": {
      "text/plain": [
       "DatetimeIndex(['2017-10-21 09:32:02'], dtype='datetime64[ns]', freq=None)"
      ]
     },
     "execution_count": 12,
     "metadata": {},
     "output_type": "execute_result"
    }
   ],
   "source": [
    "pd.to_datetime(['2017-10-21 09:32:02'])"
   ]
  },
  {
   "cell_type": "markdown",
   "metadata": {},
   "source": [
    "Now that we know this, we can create our timeseries of Wikipedia revisions:"
   ]
  },
  {
   "cell_type": "code",
   "execution_count": 13,
   "metadata": {},
   "outputs": [
    {
     "data": {
      "text/plain": [
       "2017-10-21 09:32:02            RichardBond\n",
       "2017-10-20 11:58:49           Eamontopleez\n",
       "2017-10-18 17:50:47                 Drmies\n",
       "2017-10-18 01:13:04            User No. 99\n",
       "2017-10-18 00:00:14               Gene2010\n",
       "2017-10-17 14:32:36            50.1.85.241\n",
       "2017-10-17 11:20:34         24.177.155.226\n",
       "2017-10-17 11:14:41         24.177.155.226\n",
       "2017-10-17 09:32:53           79.76.177.38\n",
       "2017-10-17 00:12:51    All Hallow's Wraith\n",
       "dtype: object"
      ]
     },
     "execution_count": 13,
     "metadata": {},
     "output_type": "execute_result"
    }
   ],
   "source": [
    "# time series for revisions\n",
    "tsRevWiki = Series(usernames, index=pd.to_datetime(timestamps))\n",
    "tsRevWiki.head(10)"
   ]
  },
  {
   "cell_type": "markdown",
   "metadata": {},
   "source": [
    "As we saw above in the made-up example with random values, the timestamp column is converted into a `DatetimeIndex` object by `pandas`:"
   ]
  },
  {
   "cell_type": "code",
   "execution_count": 14,
   "metadata": {},
   "outputs": [
    {
     "data": {
      "text/plain": [
       "DatetimeIndex(['2017-10-21 09:32:02', '2017-10-20 11:58:49',\n",
       "               '2017-10-18 17:50:47', '2017-10-18 01:13:04',\n",
       "               '2017-10-18 00:00:14', '2017-10-17 14:32:36',\n",
       "               '2017-10-17 11:20:34', '2017-10-17 11:14:41',\n",
       "               '2017-10-17 09:32:53', '2017-10-17 00:12:51',\n",
       "               ...\n",
       "               '2003-12-02 06:54:51', '2003-10-20 10:45:02',\n",
       "               '2003-10-20 10:42:45', '2003-10-03 00:52:36',\n",
       "               '2003-08-14 00:16:56', '2003-07-07 18:12:48',\n",
       "               '2003-07-06 22:42:34', '2003-07-03 19:10:21',\n",
       "               '2003-07-03 17:27:25', '2003-07-03 17:26:34'],\n",
       "              dtype='datetime64[ns]', length=3268, freq=None)"
      ]
     },
     "execution_count": 14,
     "metadata": {},
     "output_type": "execute_result"
    }
   ],
   "source": [
    "tsRevWiki.index"
   ]
  },
  {
   "cell_type": "markdown",
   "metadata": {},
   "source": [
    "However, the values inside this index are `Timestamp` instances:"
   ]
  },
  {
   "cell_type": "code",
   "execution_count": 15,
   "metadata": {},
   "outputs": [
    {
     "data": {
      "text/plain": [
       "Timestamp('2017-10-21 09:32:02')"
      ]
     },
     "execution_count": 15,
     "metadata": {},
     "output_type": "execute_result"
    }
   ],
   "source": [
    "tsRevWiki.index[0]"
   ]
  },
  {
   "cell_type": "markdown",
   "metadata": {},
   "source": [
    "A `Timestamp` instance has many more methods (useful for analysis) than `datetime` instances:"
   ]
  },
  {
   "cell_type": "code",
   "execution_count": 16,
   "metadata": {},
   "outputs": [
    {
     "name": "stdout",
     "output_type": "stream",
     "text": [
      "['__add__', '__array_priority__', '__class__', '__delattr__', '__dict__', '__dir__', '__doc__', '__eq__', '__format__', '__ge__', '__getattribute__', '__gt__', '__hash__', '__init__', '__init_subclass__', '__le__', '__lt__', '__module__', '__ne__', '__new__', '__pyx_vtable__', '__radd__', '__reduce__', '__reduce_ex__', '__repr__', '__rsub__', '__setattr__', '__setstate__', '__sizeof__', '__str__', '__sub__', '__subclasshook__', '__weakref__', '_date_attributes', '_date_repr', '_get_date_name_field', '_get_start_end_field', '_has_time_component', '_repr_base', '_round', '_short_repr', '_time_repr', 'asm8', 'astimezone', 'ceil', 'combine', 'ctime', 'date', 'day', 'day_name', 'dayofweek', 'dayofyear', 'days_in_month', 'daysinmonth', 'dst', 'floor', 'fold', 'freq', 'freqstr', 'fromisoformat', 'fromordinal', 'fromtimestamp', 'hour', 'is_leap_year', 'is_month_end', 'is_month_start', 'is_quarter_end', 'is_quarter_start', 'is_year_end', 'is_year_start', 'isocalendar', 'isoformat', 'isoweekday', 'max', 'microsecond', 'min', 'minute', 'month', 'month_name', 'nanosecond', 'normalize', 'now', 'quarter', 'replace', 'resolution', 'round', 'second', 'strftime', 'strptime', 'time', 'timestamp', 'timetuple', 'timetz', 'to_datetime64', 'to_julian_date', 'to_numpy', 'to_period', 'to_pydatetime', 'today', 'toordinal', 'tz', 'tz_convert', 'tz_localize', 'tzinfo', 'tzname', 'utcfromtimestamp', 'utcnow', 'utcoffset', 'utctimetuple', 'value', 'week', 'weekday', 'weekofyear', 'year']\n"
     ]
    }
   ],
   "source": [
    "print(dir(tsRevWiki.index[0]))"
   ]
  },
  {
   "cell_type": "markdown",
   "metadata": {},
   "source": [
    "For example, notice properties such as `is_month_start`, `weekofyear`, etc."
   ]
  },
  {
   "cell_type": "markdown",
   "metadata": {},
   "source": [
    "<a id=\"sec3\"></a>\n",
    "## 2. Indexing and Selection\n",
    "In a `Series`, if we use the indices 0 to n-1, we access the variable (the column of the Series), not the index:"
   ]
  },
  {
   "cell_type": "code",
   "execution_count": 17,
   "metadata": {},
   "outputs": [
    {
     "data": {
      "text/plain": [
       "'Drmies'"
      ]
     },
     "execution_count": 17,
     "metadata": {},
     "output_type": "execute_result"
    }
   ],
   "source": [
    "tsRevWiki[2]"
   ]
  },
  {
   "cell_type": "markdown",
   "metadata": {},
   "source": [
    "Thus, to access the \"index\" value, we use the `index` attribute:"
   ]
  },
  {
   "cell_type": "code",
   "execution_count": 18,
   "metadata": {},
   "outputs": [
    {
     "data": {
      "text/plain": [
       "Timestamp('2017-10-18 17:50:47')"
      ]
     },
     "execution_count": 18,
     "metadata": {},
     "output_type": "execute_result"
    }
   ],
   "source": [
    "tsRevWiki.index[2]"
   ]
  },
  {
   "cell_type": "markdown",
   "metadata": {},
   "source": [
    "If this index value is stored in a variable, it can be used for indexing instead of numbers 0 to n-1.  \n",
    "That is, instead of accessing the values in the column through numbers 0 to n-1, we can access them through their index value:"
   ]
  },
  {
   "cell_type": "code",
   "execution_count": 19,
   "metadata": {},
   "outputs": [
    {
     "data": {
      "text/plain": [
       "'Drmies'"
      ]
     },
     "execution_count": 19,
     "metadata": {},
     "output_type": "execute_result"
    }
   ],
   "source": [
    "moment = tsRevWiki.index[2]\n",
    "tsRevWiki[moment]"
   ]
  },
  {
   "cell_type": "markdown",
   "metadata": {},
   "source": [
    "### Accessing values via dates\n",
    "\n",
    "As we just saw, the primary benefit of a DatetimeIndex is that we can use datetime strings to access data from the series. These can be different valid strings. Let's start with a date (year, month, day):"
   ]
  },
  {
   "cell_type": "code",
   "execution_count": 20,
   "metadata": {},
   "outputs": [
    {
     "data": {
      "text/plain": [
       "2017-10-17 14:32:36            50.1.85.241\n",
       "2017-10-17 11:20:34         24.177.155.226\n",
       "2017-10-17 11:14:41         24.177.155.226\n",
       "2017-10-17 09:32:53           79.76.177.38\n",
       "2017-10-17 00:12:51    All Hallow's Wraith\n",
       "dtype: object"
      ]
     },
     "execution_count": 20,
     "metadata": {},
     "output_type": "execute_result"
    }
   ],
   "source": [
    "tsRevWiki['2017-10-17']"
   ]
  },
  {
   "cell_type": "markdown",
   "metadata": {},
   "source": [
    "This works with incomplete dates as well. Here is with year and month:"
   ]
  },
  {
   "cell_type": "code",
   "execution_count": 21,
   "metadata": {},
   "outputs": [
    {
     "data": {
      "text/plain": [
       "2017-10-21 09:32:02            RichardBond\n",
       "2017-10-20 11:58:49           Eamontopleez\n",
       "2017-10-18 17:50:47                 Drmies\n",
       "2017-10-18 01:13:04            User No. 99\n",
       "2017-10-18 00:00:14               Gene2010\n",
       "2017-10-17 14:32:36            50.1.85.241\n",
       "2017-10-17 11:20:34         24.177.155.226\n",
       "2017-10-17 11:14:41         24.177.155.226\n",
       "2017-10-17 09:32:53           79.76.177.38\n",
       "2017-10-17 00:12:51    All Hallow's Wraith\n",
       "dtype: object"
      ]
     },
     "execution_count": 21,
     "metadata": {},
     "output_type": "execute_result"
    }
   ],
   "source": [
    "tsRevWiki['2017-10'].head(10) # showing only the first 10 values, because too many"
   ]
  },
  {
   "cell_type": "markdown",
   "metadata": {},
   "source": [
    "This result was long, we can check the size of the subseries:"
   ]
  },
  {
   "cell_type": "code",
   "execution_count": 22,
   "metadata": {},
   "outputs": [
    {
     "data": {
      "text/plain": [
       "92"
      ]
     },
     "execution_count": 22,
     "metadata": {},
     "output_type": "execute_result"
    }
   ],
   "source": [
    "tsRevWiki['2017-10'].count()"
   ]
  },
  {
   "cell_type": "markdown",
   "metadata": {},
   "source": [
    "What about the entire year of 2017:"
   ]
  },
  {
   "cell_type": "code",
   "execution_count": 23,
   "metadata": {},
   "outputs": [
    {
     "data": {
      "text/plain": [
       "159"
      ]
     },
     "execution_count": 23,
     "metadata": {},
     "output_type": "execute_result"
    }
   ],
   "source": [
    "tsRevWiki['2017'].count()"
   ]
  },
  {
   "cell_type": "markdown",
   "metadata": {},
   "source": [
    "**Conclusion:** pandas provides a powerful way to query a times series through string date values."
   ]
  },
  {
   "cell_type": "markdown",
   "metadata": {},
   "source": [
    "### Exercise: How to find the number of edits by year? \n",
    "We will learn a better method later in this notebook, but here is one that you can do too.  \n",
    "**TIP:** Try to unpack the expressions to see the role of each method."
   ]
  },
  {
   "cell_type": "code",
   "execution_count": 24,
   "metadata": {},
   "outputs": [
    {
     "name": "stdout",
     "output_type": "stream",
     "text": [
      "2003 2017\n"
     ]
    }
   ],
   "source": [
    "# find the first year and last year of revisions\n",
    "minR = tsRevWiki.index.min().year      # find min value, get its year\n",
    "maxR = tsRevWiki.index.max().year      # find max value, get its year\n",
    "\n",
    "print(minR, maxR)"
   ]
  },
  {
   "cell_type": "code",
   "execution_count": 25,
   "metadata": {},
   "outputs": [
    {
     "name": "stdout",
     "output_type": "stream",
     "text": [
      "2003 10\n",
      "2004 24\n",
      "2005 55\n",
      "2006 436\n",
      "2007 638\n",
      "2008 481\n",
      "2009 371\n",
      "2010 301\n",
      "2011 168\n",
      "2012 134\n",
      "2013 138\n",
      "2014 106\n",
      "2015 152\n",
      "2016 95\n",
      "2017 159\n"
     ]
    }
   ],
   "source": [
    "# create a range of years and with a for loop to access the Series\n",
    "\n",
    "for year in range(minR, maxR+1):\n",
    "    print(year, tsRevWiki[str(year)].count())"
   ]
  },
  {
   "cell_type": "markdown",
   "metadata": {},
   "source": [
    "<a id=\"sec4\"></a>"
   ]
  },
  {
   "cell_type": "markdown",
   "metadata": {},
   "source": [
    "## 3. Resampling and Frequency Conversion\n",
    "_Resampling_ refers to the process of converting a time series from one frequency to another. Aggregating higher frequency data  \n",
    "to lower frequency is called _downsampling_ while converting lower frequency to higher frequency is called _upsampling_ .\n",
    "\n",
    "For regular dataseries (or fixed-frequency) dataseries, the frequency is the interval of time between two measurements. For example: measuring the temperature every 6 hours; the blood pressure every week; the stock price at the end of the day, and so on. \n",
    "\n",
    "For irregular data series, like the Wikipedia revisions, which are mostly random (at the will of the editors, though not entirely random, they depend on events in the real world), there is no fixed frequency. In order to study the timeseries though, we might want to use a chosen frequency unit: a day, a week, a month, a year.\n",
    "\n",
    "Before learning how to do that, let's talk about `date_range` and frequency syntax.\n",
    "\n",
    "### The `date_range` function\n",
    "\n",
    "The statements below create a timeseries of random numbers, one number for each day (that is what `freq='D'` means), for a period of 100 days in total."
   ]
  },
  {
   "cell_type": "code",
   "execution_count": 26,
   "metadata": {},
   "outputs": [
    {
     "data": {
      "text/plain": [
       "2000-01-01    0.010923\n",
       "2000-01-02   -1.318460\n",
       "2000-01-03    0.480500\n",
       "2000-01-04   -1.592512\n",
       "2000-01-05    0.444464\n",
       "2000-01-06    1.507799\n",
       "2000-01-07    0.768308\n",
       "2000-01-08    0.724775\n",
       "2000-01-09   -0.372117\n",
       "2000-01-10    3.040008\n",
       "Freq: D, dtype: float64"
      ]
     },
     "execution_count": 26,
     "metadata": {},
     "output_type": "execute_result"
    }
   ],
   "source": [
    "from numpy.random import randn\n",
    "drange = pd.date_range('1/1/2000', periods=100, freq='D')\n",
    "ts = Series(randn(len(drange)), index=drange)\n",
    "ts.head(10) "
   ]
  },
  {
   "cell_type": "markdown",
   "metadata": {},
   "source": [
    "We can indeed check that we have 100 data points:"
   ]
  },
  {
   "cell_type": "code",
   "execution_count": 27,
   "metadata": {},
   "outputs": [
    {
     "data": {
      "text/plain": [
       "100"
      ]
     },
     "execution_count": 27,
     "metadata": {},
     "output_type": "execute_result"
    }
   ],
   "source": [
    "ts.count()"
   ]
  },
  {
   "cell_type": "markdown",
   "metadata": {},
   "source": [
    "There are many values that the parameter `freq` can take, here are some more examples:"
   ]
  },
  {
   "cell_type": "code",
   "execution_count": 28,
   "metadata": {},
   "outputs": [
    {
     "data": {
      "text/plain": [
       "DatetimeIndex(['2017-01-01', '2017-01-04', '2017-01-07', '2017-01-10',\n",
       "               '2017-01-13', '2017-01-16', '2017-01-19', '2017-01-22',\n",
       "               '2017-01-25', '2017-01-28', '2017-01-31', '2017-02-03',\n",
       "               '2017-02-06', '2017-02-09', '2017-02-12', '2017-02-15',\n",
       "               '2017-02-18', '2017-02-21', '2017-02-24', '2017-02-27',\n",
       "               '2017-03-02', '2017-03-05', '2017-03-08', '2017-03-11',\n",
       "               '2017-03-14', '2017-03-17', '2017-03-20', '2017-03-23',\n",
       "               '2017-03-26', '2017-03-29', '2017-04-01'],\n",
       "              dtype='datetime64[ns]', freq='3D')"
      ]
     },
     "execution_count": 28,
     "metadata": {},
     "output_type": "execute_result"
    }
   ],
   "source": [
    "# frequency is 3 days\n",
    "pd.date_range(\"01/01/17\", periods=31, freq=\"3D\")"
   ]
  },
  {
   "cell_type": "markdown",
   "metadata": {},
   "source": [
    "As we can see, 31 days were created, all 3 days apart."
   ]
  },
  {
   "cell_type": "code",
   "execution_count": 29,
   "metadata": {},
   "outputs": [
    {
     "data": {
      "text/plain": [
       "DatetimeIndex(['2017-01-01 00:00:00', '2017-01-01 01:30:00',\n",
       "               '2017-01-01 03:00:00', '2017-01-01 04:30:00',\n",
       "               '2017-01-01 06:00:00', '2017-01-01 07:30:00',\n",
       "               '2017-01-01 09:00:00', '2017-01-01 10:30:00',\n",
       "               '2017-01-01 12:00:00', '2017-01-01 13:30:00'],\n",
       "              dtype='datetime64[ns]', freq='90T')"
      ]
     },
     "execution_count": 29,
     "metadata": {},
     "output_type": "execute_result"
    }
   ],
   "source": [
    "# make the \"frequency step\" to be 90 minutes\n",
    "pd.date_range(\"01/01/17 00:00\", periods=10, freq=\"90min\")"
   ]
  },
  {
   "cell_type": "markdown",
   "metadata": {},
   "source": [
    "If we don't provide a value for the frequency parameter, by default is 'D' for one day. The `date_range` function takes a start and end date, like below:"
   ]
  },
  {
   "cell_type": "code",
   "execution_count": 30,
   "metadata": {},
   "outputs": [
    {
     "data": {
      "text/plain": [
       "DatetimeIndex(['2019-10-10', '2019-10-11', '2019-10-12', '2019-10-13',\n",
       "               '2019-10-14', '2019-10-15', '2019-10-16', '2019-10-17',\n",
       "               '2019-10-18', '2019-10-19', '2019-10-20'],\n",
       "              dtype='datetime64[ns]', freq='D')"
      ]
     },
     "execution_count": 30,
     "metadata": {},
     "output_type": "execute_result"
    }
   ],
   "source": [
    "pd.date_range('10/10/2019', '10/20/2019')"
   ]
  },
  {
   "cell_type": "markdown",
   "metadata": {},
   "source": [
    "Here is a table that contains all values that can be passed to the `freq` parameter:"
   ]
  },
  {
   "cell_type": "markdown",
   "metadata": {},
   "source": [
    "<img src=\"frequency.png\" width=800>"
   ]
  },
  {
   "cell_type": "markdown",
   "metadata": {},
   "source": [
    "### A resampling example\n",
    "\n",
    "For the timeseries `ts` we created above with random numbes, let's see what resampling does.\n",
    "\n",
    "Because the values were \"recorded\" daily, we will ask for a resampling based on a month:"
   ]
  },
  {
   "cell_type": "code",
   "execution_count": 31,
   "metadata": {},
   "outputs": [
    {
     "data": {
      "text/plain": [
       "2000-01-31    0.092472\n",
       "2000-02-29    0.083139\n",
       "2000-03-31    0.417224\n",
       "2000-04-30   -0.009773\n",
       "Freq: M, dtype: float64"
      ]
     },
     "execution_count": 31,
     "metadata": {},
     "output_type": "execute_result"
    }
   ],
   "source": [
    "ts.resample(\"M\").mean()"
   ]
  },
  {
   "cell_type": "markdown",
   "metadata": {},
   "source": [
    "Since we are changing the data to go from daily values to a monthly value, once we resample, we have to specify what kind of value we want (mean, sum, max, min, some other function, etc.)"
   ]
  },
  {
   "cell_type": "code",
   "execution_count": 32,
   "metadata": {},
   "outputs": [
    {
     "data": {
      "text/plain": [
       "2000-01-02   -1.307536\n",
       "2000-01-09    1.961217\n",
       "2000-01-16    1.591611\n",
       "2000-01-23    2.139931\n",
       "2000-01-30   -3.053192\n",
       "2000-02-06    1.427012\n",
       "2000-02-13    3.053644\n",
       "2000-02-20   -1.894924\n",
       "2000-02-27   -0.024244\n",
       "2000-03-05    5.854503\n",
       "2000-03-12    5.246822\n",
       "2000-03-19    1.322204\n",
       "2000-03-26    0.622872\n",
       "2000-04-02    2.479411\n",
       "2000-04-09   -1.295705\n",
       "Freq: W-SUN, dtype: float64"
      ]
     },
     "execution_count": 32,
     "metadata": {},
     "output_type": "execute_result"
    }
   ],
   "source": [
    "# let's find the sum for the weekly sample (all data collected in one week)\n",
    "ts.resample(\"W\").sum()"
   ]
  },
  {
   "cell_type": "markdown",
   "metadata": {},
   "source": [
    "<a id=\"sec5\"></a>"
   ]
  },
  {
   "cell_type": "markdown",
   "metadata": {},
   "source": [
    "## 4. Wikipedia Revisions Timeseries\n",
    "\n",
    "As a reminder, we created a series `tsRevWiki` earlier in this notebook, let's look at it again:"
   ]
  },
  {
   "cell_type": "code",
   "execution_count": 33,
   "metadata": {},
   "outputs": [
    {
     "data": {
      "text/plain": [
       "2017-10-21 09:32:02            RichardBond\n",
       "2017-10-20 11:58:49           Eamontopleez\n",
       "2017-10-18 17:50:47                 Drmies\n",
       "2017-10-18 01:13:04            User No. 99\n",
       "2017-10-18 00:00:14               Gene2010\n",
       "2017-10-17 14:32:36            50.1.85.241\n",
       "2017-10-17 11:20:34         24.177.155.226\n",
       "2017-10-17 11:14:41         24.177.155.226\n",
       "2017-10-17 09:32:53           79.76.177.38\n",
       "2017-10-17 00:12:51    All Hallow's Wraith\n",
       "dtype: object"
      ]
     },
     "execution_count": 33,
     "metadata": {},
     "output_type": "execute_result"
    }
   ],
   "source": [
    "tsRevWiki.head(10)"
   ]
  },
  {
   "cell_type": "markdown",
   "metadata": {},
   "source": [
    "How big is this series:"
   ]
  },
  {
   "cell_type": "code",
   "execution_count": 34,
   "metadata": {},
   "outputs": [
    {
     "data": {
      "text/plain": [
       "(3268,)"
      ]
     },
     "execution_count": 34,
     "metadata": {},
     "output_type": "execute_result"
    }
   ],
   "source": [
    "tsRevWiki.shape"
   ]
  },
  {
   "cell_type": "markdown",
   "metadata": {},
   "source": [
    "Let's create a timeseries that shows the number of edits by year. We will be resampling using the frequncy 'A' (see table above). Remember that we did this step with a `for` loop earlier in the notebook and got these results:\n",
    "\n",
    "```\n",
    "2003 10\n",
    "2004 24\n",
    "2005 55\n",
    "2006 436\n",
    "2007 638\n",
    "2008 481\n",
    "2009 371\n",
    "2010 301\n",
    "2011 168\n",
    "2012 134\n",
    "2013 138\n",
    "2014 106\n",
    "2015 152\n",
    "2016 95\n",
    "2017 159\n",
    "```"
   ]
  },
  {
   "cell_type": "code",
   "execution_count": 35,
   "metadata": {},
   "outputs": [
    {
     "data": {
      "text/plain": [
       "2003-12-31     10\n",
       "2004-12-31     24\n",
       "2005-12-31     55\n",
       "2006-12-31    436\n",
       "2007-12-31    638\n",
       "2008-12-31    481\n",
       "2009-12-31    371\n",
       "2010-12-31    301\n",
       "2011-12-31    168\n",
       "2012-12-31    134\n",
       "2013-12-31    138\n",
       "2014-12-31    106\n",
       "2015-12-31    152\n",
       "2016-12-31     95\n",
       "2017-12-31    159\n",
       "Freq: A-DEC, dtype: int64"
      ]
     },
     "execution_count": 35,
     "metadata": {},
     "output_type": "execute_result"
    }
   ],
   "source": [
    "tsRevWiki.resample('A').count()"
   ]
  },
  {
   "cell_type": "markdown",
   "metadata": {},
   "source": [
    "### Visualizing a timeseries\n",
    "\n",
    "pandas knows how to plot timeseries automatically, but let's get matplotlib in the namespace, given that it's needed to show the plots."
   ]
  },
  {
   "cell_type": "code",
   "execution_count": 36,
   "metadata": {},
   "outputs": [],
   "source": [
    "import matplotlib.pyplot as plt\n",
    "%matplotlib inline\n",
    "plt.style.use('ggplot')"
   ]
  },
  {
   "cell_type": "markdown",
   "metadata": {},
   "source": [
    "Let's store the result into a new series, so that we can call the plot method on it. It's as simple as that:"
   ]
  },
  {
   "cell_type": "code",
   "execution_count": 37,
   "metadata": {},
   "outputs": [
    {
     "data": {
      "image/png": "[encoded data removed]",
      "text/plain": [
       "<Figure size 576x360 with 1 Axes>"
      ]
     },
     "metadata": {},
     "output_type": "display_data"
    }
   ],
   "source": [
    "revByYear = tsRevWiki.resample('A').count()\n",
    "revByYear.plot(figsize=(8,5), title=\"Number of revisions by year\")\n",
    "plt.show()"
   ]
  },
  {
   "cell_type": "code",
   "execution_count": 38,
   "metadata": {},
   "outputs": [
    {
     "data": {
      "image/png": "[encoded data removed]",
      "text/plain": [
       "<Figure size 576x360 with 1 Axes>"
      ]
     },
     "metadata": {},
     "output_type": "display_data"
    }
   ],
   "source": [
    "revByMonth = tsRevWiki.resample('M').count()\n",
    "revByMonth.plot(figsize=(8,5), title=\"Number of revisions by month\")\n",
    "plt.show()"
   ]
  },
  {
   "cell_type": "markdown",
   "metadata": {},
   "source": [
    "We can always **smooth** the data by making the interval bigger, for example, 3 months:"
   ]
  },
  {
   "cell_type": "code",
   "execution_count": 39,
   "metadata": {},
   "outputs": [
    {
     "data": {
      "image/png": "[encoded data removed]",
      "text/plain": [
       "<Figure size 576x360 with 1 Axes>"
      ]
     },
     "metadata": {},
     "output_type": "display_data"
    }
   ],
   "source": [
    "revByThreeMonths = tsRevWiki.resample('3M').count()\n",
    "revByThreeMonths.plot(figsize=(8,5), title=\"Number of revisions quarterly\")\n",
    "plt.show()"
   ]
  },
  {
   "cell_type": "markdown",
   "metadata": {},
   "source": [
    "We can focus on a single year, for example, 2007:"
   ]
  },
  {
   "cell_type": "code",
   "execution_count": 40,
   "metadata": {},
   "outputs": [
    {
     "data": {
      "image/png": "[encoded data removed]",
      "text/plain": [
       "<Figure size 432x288 with 1 Axes>"
      ]
     },
     "metadata": {},
     "output_type": "display_data"
    }
   ],
   "source": [
    "revsIn2007 = tsRevWiki['2007']\n",
    "revsIn2007Months = revsIn2007.resample('M').count()\n",
    "revsIn2007Months.plot(title=\"Number of revisions in 2007\", # not using figsize\n",
    "                      x_compat=True # this parameter suppresses how often the xticks are displayed\n",
    "                     ) \n",
    "plt.show()"
   ]
  },
  {
   "cell_type": "markdown",
   "metadata": {},
   "source": [
    "The same way, we can zoom in in the month of October 2017:"
   ]
  },
  {
   "cell_type": "code",
   "execution_count": 41,
   "metadata": {},
   "outputs": [
    {
     "data": {
      "image/png": "[encoded data removed]",
      "text/plain": [
       "<Figure size 576x360 with 1 Axes>"
      ]
     },
     "metadata": {},
     "output_type": "display_data"
    }
   ],
   "source": [
    "revsOct17 = tsRevWiki['2017-10']\n",
    "revsOct17Day = revsOct17.resample('D').count()\n",
    "revsOct17Day.plot(figsize=(8,5), \n",
    "                  title=\"Number of revisions in 10/2017\",\n",
    "                  x_compat=True)\n",
    "plt.show()"
   ]
  },
  {
   "cell_type": "markdown",
   "metadata": {},
   "source": [
    "### Find most active editing days\n",
    "\n",
    "Given that we can create a series based on daily edit counts, we can find the day with most edits:"
   ]
  },
  {
   "cell_type": "code",
   "execution_count": 42,
   "metadata": {},
   "outputs": [
    {
     "data": {
      "text/plain": [
       "2006-07-27    70\n",
       "2017-10-13    39\n",
       "2007-12-15    26\n",
       "2007-03-25    24\n",
       "2006-12-30    18\n",
       "2007-12-31    17\n",
       "2012-10-28    17\n",
       "2007-03-10    17\n",
       "2012-10-29    16\n",
       "2007-12-25    16\n",
       "dtype: int64"
      ]
     },
     "execution_count": 42,
     "metadata": {},
     "output_type": "execute_result"
    }
   ],
   "source": [
    "revByDays = tsRevWiki.resample('D').count()\n",
    "revByDays.sort_values(ascending=False).head(10)"
   ]
  },
  {
   "cell_type": "markdown",
   "metadata": {},
   "source": [
    "We can see how 2017/10/13, one of the days in the evolving Harvey Weinstein story, has the second largest number of edits."
   ]
  },
  {
   "cell_type": "markdown",
   "metadata": {},
   "source": [
    "### Find most active editors\n",
    "\n",
    "In order to find editors, we will create a dataframe from the series, in order to use the method `groupby` which works better on dataframes.\n",
    "\n",
    "Notice that we can create the dataframe using the columns of the timeseries tsRevWiki."
   ]
  },
  {
   "cell_type": "code",
   "execution_count": 43,
   "metadata": {},
   "outputs": [
    {
     "data": {
      "text/html": [
       "<div>\n",
       "<style scoped>\n",
       "    .dataframe tbody tr th:only-of-type {\n",
       "        vertical-align: middle;\n",
       "    }\n",
       "\n",
       "    .dataframe tbody tr th {\n",
       "        vertical-align: top;\n",
       "    }\n",
       "\n",
       "    .dataframe thead th {\n",
       "        text-align: right;\n",
       "    }\n",
       "</style>\n",
       "<table border=\"1\" class=\"dataframe\">\n",
       "  <thead>\n",
       "    <tr style=\"text-align: right;\">\n",
       "      <th></th>\n",
       "      <th>editors</th>\n",
       "    </tr>\n",
       "  </thead>\n",
       "  <tbody>\n",
       "    <tr>\n",
       "      <th>2017-10-21 09:32:02</th>\n",
       "      <td>RichardBond</td>\n",
       "    </tr>\n",
       "    <tr>\n",
       "      <th>2017-10-20 11:58:49</th>\n",
       "      <td>Eamontopleez</td>\n",
       "    </tr>\n",
       "    <tr>\n",
       "      <th>2017-10-18 17:50:47</th>\n",
       "      <td>Drmies</td>\n",
       "    </tr>\n",
       "    <tr>\n",
       "      <th>2017-10-18 01:13:04</th>\n",
       "      <td>User No. 99</td>\n",
       "    </tr>\n",
       "    <tr>\n",
       "      <th>2017-10-18 00:00:14</th>\n",
       "      <td>Gene2010</td>\n",
       "    </tr>\n",
       "  </tbody>\n",
       "</table>\n",
       "</div>"
      ],
      "text/plain": [
       "                          editors\n",
       "2017-10-21 09:32:02   RichardBond\n",
       "2017-10-20 11:58:49  Eamontopleez\n",
       "2017-10-18 17:50:47        Drmies\n",
       "2017-10-18 01:13:04   User No. 99\n",
       "2017-10-18 00:00:14      Gene2010"
      ]
     },
     "execution_count": 43,
     "metadata": {},
     "output_type": "execute_result"
    }
   ],
   "source": [
    "dfWiki = DataFrame({'editors': tsRevWiki}, \n",
    "                     index=tsRevWiki.index)\n",
    "dfWiki.head()"
   ]
  },
  {
   "cell_type": "code",
   "execution_count": 44,
   "metadata": {},
   "outputs": [
    {
     "data": {
      "text/plain": [
       "(3268, 1)"
      ]
     },
     "execution_count": 44,
     "metadata": {},
     "output_type": "execute_result"
    }
   ],
   "source": [
    "dfWiki.shape"
   ]
  },
  {
   "cell_type": "markdown",
   "metadata": {},
   "source": [
    "Now we can use the method `groupby` that will group together values in the column 'editors', find how often each editor occurs and show that value in a new column, \"total\":"
   ]
  },
  {
   "cell_type": "code",
   "execution_count": 45,
   "metadata": {},
   "outputs": [
    {
     "data": {
      "text/html": [
       "<div>\n",
       "<style scoped>\n",
       "    .dataframe tbody tr th:only-of-type {\n",
       "        vertical-align: middle;\n",
       "    }\n",
       "\n",
       "    .dataframe tbody tr th {\n",
       "        vertical-align: top;\n",
       "    }\n",
       "\n",
       "    .dataframe thead th {\n",
       "        text-align: right;\n",
       "    }\n",
       "</style>\n",
       "<table border=\"1\" class=\"dataframe\">\n",
       "  <thead>\n",
       "    <tr style=\"text-align: right;\">\n",
       "      <th></th>\n",
       "      <th>editors</th>\n",
       "      <th>total</th>\n",
       "    </tr>\n",
       "  </thead>\n",
       "  <tbody>\n",
       "    <tr>\n",
       "      <th>0</th>\n",
       "      <td>*Kat*</td>\n",
       "      <td>1</td>\n",
       "    </tr>\n",
       "    <tr>\n",
       "      <th>1</th>\n",
       "      <td>100.0.71.51</td>\n",
       "      <td>1</td>\n",
       "    </tr>\n",
       "    <tr>\n",
       "      <th>2</th>\n",
       "      <td>100.38.207.221</td>\n",
       "      <td>1</td>\n",
       "    </tr>\n",
       "    <tr>\n",
       "      <th>3</th>\n",
       "      <td>101.103.164.193</td>\n",
       "      <td>1</td>\n",
       "    </tr>\n",
       "    <tr>\n",
       "      <th>4</th>\n",
       "      <td>101.184.225.1</td>\n",
       "      <td>1</td>\n",
       "    </tr>\n",
       "    <tr>\n",
       "      <th>5</th>\n",
       "      <td>104.175.43.228</td>\n",
       "      <td>3</td>\n",
       "    </tr>\n",
       "    <tr>\n",
       "      <th>6</th>\n",
       "      <td>108.17.25.115</td>\n",
       "      <td>1</td>\n",
       "    </tr>\n",
       "    <tr>\n",
       "      <th>7</th>\n",
       "      <td>108.180.17.36</td>\n",
       "      <td>1</td>\n",
       "    </tr>\n",
       "    <tr>\n",
       "      <th>8</th>\n",
       "      <td>108.181.180.120</td>\n",
       "      <td>1</td>\n",
       "    </tr>\n",
       "    <tr>\n",
       "      <th>9</th>\n",
       "      <td>108.2.173.243</td>\n",
       "      <td>1</td>\n",
       "    </tr>\n",
       "  </tbody>\n",
       "</table>\n",
       "</div>"
      ],
      "text/plain": [
       "           editors  total\n",
       "0            *Kat*      1\n",
       "1      100.0.71.51      1\n",
       "2   100.38.207.221      1\n",
       "3  101.103.164.193      1\n",
       "4    101.184.225.1      1\n",
       "5   104.175.43.228      3\n",
       "6    108.17.25.115      1\n",
       "7    108.180.17.36      1\n",
       "8  108.181.180.120      1\n",
       "9    108.2.173.243      1"
      ]
     },
     "execution_count": 45,
     "metadata": {},
     "output_type": "execute_result"
    }
   ],
   "source": [
    "dfWikiT = dfWiki.groupby('editors').size().reset_index(name=\"total\")\n",
    "dfWikiT.head(10)"
   ]
  },
  {
   "cell_type": "code",
   "execution_count": 46,
   "metadata": {},
   "outputs": [
    {
     "data": {
      "text/plain": [
       "(1468, 2)"
      ]
     },
     "execution_count": 46,
     "metadata": {},
     "output_type": "execute_result"
    }
   ],
   "source": [
    "dfWikiT.shape"
   ]
  },
  {
   "cell_type": "markdown",
   "metadata": {},
   "source": [
    "We can see that the number of rows in this new dataframe is smaller, since some editors have more than one edit.\n",
    "\n",
    "By the way, editor names such as 108.2.173.243, refer to the IP address of an editor. If someone edits a Wiki page without using an account, the system automatically captures their IP address."
   ]
  },
  {
   "cell_type": "markdown",
   "metadata": {},
   "source": [
    "Let's sort to find the most prolific editors:"
   ]
  },
  {
   "cell_type": "code",
   "execution_count": 47,
   "metadata": {},
   "outputs": [
    {
     "data": {
      "text/html": [
       "<div>\n",
       "<style scoped>\n",
       "    .dataframe tbody tr th:only-of-type {\n",
       "        vertical-align: middle;\n",
       "    }\n",
       "\n",
       "    .dataframe tbody tr th {\n",
       "        vertical-align: top;\n",
       "    }\n",
       "\n",
       "    .dataframe thead th {\n",
       "        text-align: right;\n",
       "    }\n",
       "</style>\n",
       "<table border=\"1\" class=\"dataframe\">\n",
       "  <thead>\n",
       "    <tr style=\"text-align: right;\">\n",
       "      <th></th>\n",
       "      <th>editors</th>\n",
       "      <th>total</th>\n",
       "    </tr>\n",
       "  </thead>\n",
       "  <tbody>\n",
       "    <tr>\n",
       "      <th>436</th>\n",
       "      <td>68.190.48.20</td>\n",
       "      <td>81</td>\n",
       "    </tr>\n",
       "    <tr>\n",
       "      <th>471</th>\n",
       "      <td>69.142.14.136</td>\n",
       "      <td>66</td>\n",
       "    </tr>\n",
       "    <tr>\n",
       "      <th>1229</th>\n",
       "      <td>Nymf</td>\n",
       "      <td>53</td>\n",
       "    </tr>\n",
       "    <tr>\n",
       "      <th>1434</th>\n",
       "      <td>Wildhartlivie</td>\n",
       "      <td>51</td>\n",
       "    </tr>\n",
       "    <tr>\n",
       "      <th>1167</th>\n",
       "      <td>Magnius</td>\n",
       "      <td>49</td>\n",
       "    </tr>\n",
       "    <tr>\n",
       "      <th>1456</th>\n",
       "      <td>Z-vap</td>\n",
       "      <td>42</td>\n",
       "    </tr>\n",
       "    <tr>\n",
       "      <th>1394</th>\n",
       "      <td>Treybien</td>\n",
       "      <td>39</td>\n",
       "    </tr>\n",
       "    <tr>\n",
       "      <th>255</th>\n",
       "      <td>213.105.222.232</td>\n",
       "      <td>38</td>\n",
       "    </tr>\n",
       "    <tr>\n",
       "      <th>1112</th>\n",
       "      <td>KellyAna</td>\n",
       "      <td>31</td>\n",
       "    </tr>\n",
       "    <tr>\n",
       "      <th>608</th>\n",
       "      <td>77.98.184.35</td>\n",
       "      <td>26</td>\n",
       "    </tr>\n",
       "  </tbody>\n",
       "</table>\n",
       "</div>"
      ],
      "text/plain": [
       "              editors  total\n",
       "436      68.190.48.20     81\n",
       "471     69.142.14.136     66\n",
       "1229             Nymf     53\n",
       "1434    Wildhartlivie     51\n",
       "1167          Magnius     49\n",
       "1456            Z-vap     42\n",
       "1394         Treybien     39\n",
       "255   213.105.222.232     38\n",
       "1112         KellyAna     31\n",
       "608      77.98.184.35     26"
      ]
     },
     "execution_count": 47,
     "metadata": {},
     "output_type": "execute_result"
    }
   ],
   "source": [
    "dfWikiT.sort_values('total', ascending=False)[:10]"
   ]
  },
  {
   "cell_type": "markdown",
   "metadata": {},
   "source": [
    "### Focus on one editor\n",
    "\n",
    "Let's look at the behavior of a single editor, for example, Nymf (third most active):"
   ]
  },
  {
   "cell_type": "code",
   "execution_count": 48,
   "metadata": {},
   "outputs": [
    {
     "data": {
      "text/html": [
       "<div>\n",
       "<style scoped>\n",
       "    .dataframe tbody tr th:only-of-type {\n",
       "        vertical-align: middle;\n",
       "    }\n",
       "\n",
       "    .dataframe tbody tr th {\n",
       "        vertical-align: top;\n",
       "    }\n",
       "\n",
       "    .dataframe thead th {\n",
       "        text-align: right;\n",
       "    }\n",
       "</style>\n",
       "<table border=\"1\" class=\"dataframe\">\n",
       "  <thead>\n",
       "    <tr style=\"text-align: right;\">\n",
       "      <th></th>\n",
       "      <th>editors</th>\n",
       "    </tr>\n",
       "  </thead>\n",
       "  <tbody>\n",
       "    <tr>\n",
       "      <th>2015-10-02 09:28:50</th>\n",
       "      <td>Nymf</td>\n",
       "    </tr>\n",
       "    <tr>\n",
       "      <th>2015-08-26 15:27:46</th>\n",
       "      <td>Nymf</td>\n",
       "    </tr>\n",
       "    <tr>\n",
       "      <th>2015-06-12 04:49:12</th>\n",
       "      <td>Nymf</td>\n",
       "    </tr>\n",
       "    <tr>\n",
       "      <th>2014-04-26 21:08:36</th>\n",
       "      <td>Nymf</td>\n",
       "    </tr>\n",
       "    <tr>\n",
       "      <th>2014-04-17 19:07:24</th>\n",
       "      <td>Nymf</td>\n",
       "    </tr>\n",
       "  </tbody>\n",
       "</table>\n",
       "</div>"
      ],
      "text/plain": [
       "                    editors\n",
       "2015-10-02 09:28:50    Nymf\n",
       "2015-08-26 15:27:46    Nymf\n",
       "2015-06-12 04:49:12    Nymf\n",
       "2014-04-26 21:08:36    Nymf\n",
       "2014-04-17 19:07:24    Nymf"
      ]
     },
     "execution_count": 48,
     "metadata": {},
     "output_type": "execute_result"
    }
   ],
   "source": [
    "oneUser = dfWiki[dfWiki['editors']=='Nymf'] # select from the frame the rows that fulfill the query\n",
    "oneUser.head()"
   ]
  },
  {
   "cell_type": "markdown",
   "metadata": {},
   "source": [
    "We can resample the events by year and plot the timeseries:"
   ]
  },
  {
   "cell_type": "code",
   "execution_count": 49,
   "metadata": {},
   "outputs": [
    {
     "data": {
      "image/png": "[encoded data removed]",
      "text/plain": [
       "<Figure size 432x288 with 1 Axes>"
      ]
     },
     "metadata": {},
     "output_type": "display_data"
    }
   ],
   "source": [
    "oneUser.resample('A').count().plot(legend=False, title=\"One user's Wiki editing activity\")\n",
    "plt.show()"
   ]
  },
  {
   "cell_type": "markdown",
   "metadata": {},
   "source": [
    "Similarly, we can do this with grouping by year:"
   ]
  },
  {
   "cell_type": "code",
   "execution_count": 50,
   "metadata": {},
   "outputs": [
    {
     "data": {
      "text/html": [
       "<div>\n",
       "<style scoped>\n",
       "    .dataframe tbody tr th:only-of-type {\n",
       "        vertical-align: middle;\n",
       "    }\n",
       "\n",
       "    .dataframe tbody tr th {\n",
       "        vertical-align: top;\n",
       "    }\n",
       "\n",
       "    .dataframe thead th {\n",
       "        text-align: right;\n",
       "    }\n",
       "</style>\n",
       "<table border=\"1\" class=\"dataframe\">\n",
       "  <thead>\n",
       "    <tr style=\"text-align: right;\">\n",
       "      <th></th>\n",
       "      <th>editors</th>\n",
       "    </tr>\n",
       "  </thead>\n",
       "  <tbody>\n",
       "    <tr>\n",
       "      <th>2009</th>\n",
       "      <td>3</td>\n",
       "    </tr>\n",
       "    <tr>\n",
       "      <th>2010</th>\n",
       "      <td>20</td>\n",
       "    </tr>\n",
       "    <tr>\n",
       "      <th>2011</th>\n",
       "      <td>9</td>\n",
       "    </tr>\n",
       "    <tr>\n",
       "      <th>2012</th>\n",
       "      <td>6</td>\n",
       "    </tr>\n",
       "    <tr>\n",
       "      <th>2013</th>\n",
       "      <td>10</td>\n",
       "    </tr>\n",
       "    <tr>\n",
       "      <th>2014</th>\n",
       "      <td>2</td>\n",
       "    </tr>\n",
       "    <tr>\n",
       "      <th>2015</th>\n",
       "      <td>3</td>\n",
       "    </tr>\n",
       "  </tbody>\n",
       "</table>\n",
       "</div>"
      ],
      "text/plain": [
       "      editors\n",
       "2009        3\n",
       "2010       20\n",
       "2011        9\n",
       "2012        6\n",
       "2013       10\n",
       "2014        2\n",
       "2015        3"
      ]
     },
     "execution_count": 50,
     "metadata": {},
     "output_type": "execute_result"
    }
   ],
   "source": [
    "oneUser.groupby(oneUser.index.year).count()"
   ]
  },
  {
   "cell_type": "markdown",
   "metadata": {},
   "source": [
    "This shows that this user was active on 7 different years."
   ]
  },
  {
   "cell_type": "markdown",
   "metadata": {},
   "source": [
    "Let's look at the most prolific user, who has only an IP address: 68.190.48.20"
   ]
  },
  {
   "cell_type": "code",
   "execution_count": 51,
   "metadata": {},
   "outputs": [
    {
     "data": {
      "text/html": [
       "<div>\n",
       "<style scoped>\n",
       "    .dataframe tbody tr th:only-of-type {\n",
       "        vertical-align: middle;\n",
       "    }\n",
       "\n",
       "    .dataframe tbody tr th {\n",
       "        vertical-align: top;\n",
       "    }\n",
       "\n",
       "    .dataframe thead th {\n",
       "        text-align: right;\n",
       "    }\n",
       "</style>\n",
       "<table border=\"1\" class=\"dataframe\">\n",
       "  <thead>\n",
       "    <tr style=\"text-align: right;\">\n",
       "      <th></th>\n",
       "      <th>editors</th>\n",
       "    </tr>\n",
       "  </thead>\n",
       "  <tbody>\n",
       "    <tr>\n",
       "      <th>2007-03-26 05:00:20</th>\n",
       "      <td>68.190.48.20</td>\n",
       "    </tr>\n",
       "    <tr>\n",
       "      <th>2007-03-25 16:59:04</th>\n",
       "      <td>68.190.48.20</td>\n",
       "    </tr>\n",
       "    <tr>\n",
       "      <th>2007-03-25 16:57:04</th>\n",
       "      <td>68.190.48.20</td>\n",
       "    </tr>\n",
       "    <tr>\n",
       "      <th>2007-03-25 16:55:25</th>\n",
       "      <td>68.190.48.20</td>\n",
       "    </tr>\n",
       "    <tr>\n",
       "      <th>2007-03-25 16:53:39</th>\n",
       "      <td>68.190.48.20</td>\n",
       "    </tr>\n",
       "  </tbody>\n",
       "</table>\n",
       "</div>"
      ],
      "text/plain": [
       "                          editors\n",
       "2007-03-26 05:00:20  68.190.48.20\n",
       "2007-03-25 16:59:04  68.190.48.20\n",
       "2007-03-25 16:57:04  68.190.48.20\n",
       "2007-03-25 16:55:25  68.190.48.20\n",
       "2007-03-25 16:53:39  68.190.48.20"
      ]
     },
     "execution_count": 51,
     "metadata": {},
     "output_type": "execute_result"
    }
   ],
   "source": [
    "topUser = dfWiki[dfWiki['editors']=='68.190.48.20'] # select from the frame the rows that fulfill the query\n",
    "topUser.head()"
   ]
  },
  {
   "cell_type": "code",
   "execution_count": 52,
   "metadata": {},
   "outputs": [
    {
     "data": {
      "text/html": [
       "<div>\n",
       "<style scoped>\n",
       "    .dataframe tbody tr th:only-of-type {\n",
       "        vertical-align: middle;\n",
       "    }\n",
       "\n",
       "    .dataframe tbody tr th {\n",
       "        vertical-align: top;\n",
       "    }\n",
       "\n",
       "    .dataframe thead th {\n",
       "        text-align: right;\n",
       "    }\n",
       "</style>\n",
       "<table border=\"1\" class=\"dataframe\">\n",
       "  <thead>\n",
       "    <tr style=\"text-align: right;\">\n",
       "      <th></th>\n",
       "      <th>editors</th>\n",
       "    </tr>\n",
       "  </thead>\n",
       "  <tbody>\n",
       "    <tr>\n",
       "      <th>2006</th>\n",
       "      <td>5</td>\n",
       "    </tr>\n",
       "    <tr>\n",
       "      <th>2007</th>\n",
       "      <td>76</td>\n",
       "    </tr>\n",
       "  </tbody>\n",
       "</table>\n",
       "</div>"
      ],
      "text/plain": [
       "      editors\n",
       "2006        5\n",
       "2007       76"
      ]
     },
     "execution_count": 52,
     "metadata": {},
     "output_type": "execute_result"
    }
   ],
   "source": [
    "topUser.groupby(topUser.index.year).count()"
   ]
  },
  {
   "cell_type": "markdown",
   "metadata": {},
   "source": [
    "Looks like this user has done all his editing in one year. We can look at this particular year:"
   ]
  },
  {
   "cell_type": "code",
   "execution_count": 53,
   "metadata": {},
   "outputs": [
    {
     "data": {
      "text/html": [
       "<div>\n",
       "<style scoped>\n",
       "    .dataframe tbody tr th:only-of-type {\n",
       "        vertical-align: middle;\n",
       "    }\n",
       "\n",
       "    .dataframe tbody tr th {\n",
       "        vertical-align: top;\n",
       "    }\n",
       "\n",
       "    .dataframe thead th {\n",
       "        text-align: right;\n",
       "    }\n",
       "</style>\n",
       "<table border=\"1\" class=\"dataframe\">\n",
       "  <thead>\n",
       "    <tr style=\"text-align: right;\">\n",
       "      <th></th>\n",
       "      <th>editors</th>\n",
       "    </tr>\n",
       "  </thead>\n",
       "  <tbody>\n",
       "    <tr>\n",
       "      <th>2007-01-31</th>\n",
       "      <td>7</td>\n",
       "    </tr>\n",
       "    <tr>\n",
       "      <th>2007-02-28</th>\n",
       "      <td>7</td>\n",
       "    </tr>\n",
       "    <tr>\n",
       "      <th>2007-03-31</th>\n",
       "      <td>62</td>\n",
       "    </tr>\n",
       "  </tbody>\n",
       "</table>\n",
       "</div>"
      ],
      "text/plain": [
       "            editors\n",
       "2007-01-31        7\n",
       "2007-02-28        7\n",
       "2007-03-31       62"
      ]
     },
     "execution_count": 53,
     "metadata": {},
     "output_type": "execute_result"
    }
   ],
   "source": [
    "topUser['2007'].resample('M').count()"
   ]
  },
  {
   "cell_type": "markdown",
   "metadata": {},
   "source": [
    "This user seems to have done most of his editing in one month:"
   ]
  },
  {
   "cell_type": "code",
   "execution_count": 54,
   "metadata": {},
   "outputs": [
    {
     "data": {
      "image/png": "[encoded data removed]",
      "text/plain": [
       "<Figure size 432x288 with 1 Axes>"
      ]
     },
     "metadata": {},
     "output_type": "display_data"
    }
   ],
   "source": [
    "topUser['2007/03'].resample('D').count().plot(legend=None, title=\"One user in one month\")\n",
    "plt.show()"
   ]
  },
  {
   "cell_type": "markdown",
   "metadata": {},
   "source": [
    "**Note:** Look at the x ticks. If we were to use x_compat=True, they will show differently."
   ]
  },
  {
   "cell_type": "markdown",
   "metadata": {},
   "source": [
    "### Find page creator\n",
    "\n",
    "Who created the page of Rose McGowan? We can find this info from the time series."
   ]
  },
  {
   "cell_type": "code",
   "execution_count": 55,
   "metadata": {},
   "outputs": [
    {
     "data": {
      "text/html": [
       "<div>\n",
       "<style scoped>\n",
       "    .dataframe tbody tr th:only-of-type {\n",
       "        vertical-align: middle;\n",
       "    }\n",
       "\n",
       "    .dataframe tbody tr th {\n",
       "        vertical-align: top;\n",
       "    }\n",
       "\n",
       "    .dataframe thead th {\n",
       "        text-align: right;\n",
       "    }\n",
       "</style>\n",
       "<table border=\"1\" class=\"dataframe\">\n",
       "  <thead>\n",
       "    <tr style=\"text-align: right;\">\n",
       "      <th></th>\n",
       "      <th>editors</th>\n",
       "    </tr>\n",
       "  </thead>\n",
       "  <tbody>\n",
       "    <tr>\n",
       "      <th>2003-07-07 18:12:48</th>\n",
       "      <td>Sannse</td>\n",
       "    </tr>\n",
       "    <tr>\n",
       "      <th>2003-07-06 22:42:34</th>\n",
       "      <td>Sannse</td>\n",
       "    </tr>\n",
       "    <tr>\n",
       "      <th>2003-07-03 19:10:21</th>\n",
       "      <td>Easterbradford</td>\n",
       "    </tr>\n",
       "    <tr>\n",
       "      <th>2003-07-03 17:27:25</th>\n",
       "      <td>68.16.134.146</td>\n",
       "    </tr>\n",
       "    <tr>\n",
       "      <th>2003-07-03 17:26:34</th>\n",
       "      <td>68.16.134.146</td>\n",
       "    </tr>\n",
       "  </tbody>\n",
       "</table>\n",
       "</div>"
      ],
      "text/plain": [
       "                            editors\n",
       "2003-07-07 18:12:48          Sannse\n",
       "2003-07-06 22:42:34          Sannse\n",
       "2003-07-03 19:10:21  Easterbradford\n",
       "2003-07-03 17:27:25   68.16.134.146\n",
       "2003-07-03 17:26:34   68.16.134.146"
      ]
     },
     "execution_count": 55,
     "metadata": {},
     "output_type": "execute_result"
    }
   ],
   "source": [
    "dfWiki.tail(5)"
   ]
  },
  {
   "cell_type": "code",
   "execution_count": 56,
   "metadata": {},
   "outputs": [
    {
     "data": {
      "text/plain": [
       "'68.16.134.146'"
      ]
     },
     "execution_count": 56,
     "metadata": {},
     "output_type": "execute_result"
    }
   ],
   "source": [
    "creator = dfWiki['editors'][-1]\n",
    "creator"
   ]
  },
  {
   "cell_type": "code",
   "execution_count": 57,
   "metadata": {},
   "outputs": [
    {
     "data": {
      "text/html": [
       "<div>\n",
       "<style scoped>\n",
       "    .dataframe tbody tr th:only-of-type {\n",
       "        vertical-align: middle;\n",
       "    }\n",
       "\n",
       "    .dataframe tbody tr th {\n",
       "        vertical-align: top;\n",
       "    }\n",
       "\n",
       "    .dataframe thead th {\n",
       "        text-align: right;\n",
       "    }\n",
       "</style>\n",
       "<table border=\"1\" class=\"dataframe\">\n",
       "  <thead>\n",
       "    <tr style=\"text-align: right;\">\n",
       "      <th></th>\n",
       "      <th>editors</th>\n",
       "    </tr>\n",
       "  </thead>\n",
       "  <tbody>\n",
       "    <tr>\n",
       "      <th>2003-07-03 17:27:25</th>\n",
       "      <td>68.16.134.146</td>\n",
       "    </tr>\n",
       "    <tr>\n",
       "      <th>2003-07-03 17:26:34</th>\n",
       "      <td>68.16.134.146</td>\n",
       "    </tr>\n",
       "  </tbody>\n",
       "</table>\n",
       "</div>"
      ],
      "text/plain": [
       "                           editors\n",
       "2003-07-03 17:27:25  68.16.134.146\n",
       "2003-07-03 17:26:34  68.16.134.146"
      ]
     },
     "execution_count": 57,
     "metadata": {},
     "output_type": "execute_result"
    }
   ],
   "source": [
    "dfWiki[dfWiki['editors']==creator]"
   ]
  },
  {
   "cell_type": "markdown",
   "metadata": {},
   "source": [
    "This user only created the page and then never returned to make edits to it. Or, they created a username and then used that to do their edits."
   ]
  },
  {
   "cell_type": "markdown",
   "metadata": {},
   "source": [
    "<a id=\"sec5\"></a>\n",
    "\n",
    "## 5. Tasks for you\n",
    "\n",
    "To complete these tasks, you need to have completed that last task on the \"Getting data from Wikipedia\" notebook, which creates a file titled `dobbsVJacksonRevisions.json`. If you have that file, you can continue with the following tasks:\n",
    "\n",
    "1. Load the JSON file.\n",
    "2. Create a timeseries for this data, similarly to what you did for Rose McGowan's page\n",
    "3. Create the visualization of the timeseries for two different frequencies: monthly and daily.\n",
    "4. Comparing the two visualizations from point 3 what is the value of each of them?\n",
    "5. **Challenge:** One of the most interesting visualization of timeseries are [sparklines](https://en.wikipedia.org/wiki/Sparkline). For the five most active users, try to create a sparklines graph using [this Plotly chart](https://plotly.com/python/line-charts/#sparklines-with-plotly-express). [This is challenging, because you'll have to create a new dataframe, which requires some thinking. Try it, if you like a good challenge.]"
   ]
  },
  {
   "cell_type": "markdown",
   "metadata": {},
   "source": [
    "**Step 1: Load data**"
   ]
  },
  {
   "cell_type": "code",
   "execution_count": 58,
   "metadata": {},
   "outputs": [],
   "source": [
    "import json\n",
    "\n",
    "with open('dobbsVJacksonRevisions.json', 'r') as inputFile:\n",
    "    usersAndDates = json.load(inputFile)"
   ]
  },
  {
   "cell_type": "markdown",
   "metadata": {},
   "source": [
    "**Step 2: Create a timeseries**"
   ]
  },
  {
   "cell_type": "code",
   "execution_count": 60,
   "metadata": {},
   "outputs": [
    {
     "data": {
      "text/plain": [
       "2022-09-27 07:58:51           Adakiko\n",
       "2022-09-27 07:56:40     88.155.103.36\n",
       "2022-09-27 07:54:41     88.155.103.36\n",
       "2022-09-27 07:40:21           Duonaut\n",
       "2022-09-27 07:18:49     88.155.103.36\n",
       "2022-09-26 15:36:50    207.70.160.108\n",
       "2022-09-25 23:17:45             Masem\n",
       "2022-09-25 23:14:06      38.34.60.136\n",
       "2022-09-25 14:14:17             Masem\n",
       "2022-09-25 14:12:47             Masem\n",
       "dtype: object"
      ]
     },
     "execution_count": 60,
     "metadata": {},
     "output_type": "execute_result"
    }
   ],
   "source": [
    "# Unzipping the tuple\n",
    "usernames, timestamps = zip(*usersAndDates)\n",
    "\n",
    "# time series for revisions\n",
    "tsRevWiki = Series(usernames, index=pd.to_datetime(timestamps))\n",
    "tsRevWiki.head(10)"
   ]
  },
  {
   "cell_type": "markdown",
   "metadata": {},
   "source": [
    "**Step 3: Create monthly and daily timeseries**\n",
    "\n",
    "This is possible by using a different argument for the `resample` method."
   ]
  },
  {
   "cell_type": "code",
   "execution_count": 62,
   "metadata": {},
   "outputs": [
    {
     "data": {
      "image/png": "[encoded data removed]",
      "text/plain": [
       "<Figure size 576x360 with 1 Axes>"
      ]
     },
     "metadata": {},
     "output_type": "display_data"
    }
   ],
   "source": [
    "revByMonth = tsRevWiki.resample('M').count()\n",
    "revByMonth.plot(figsize=(8,5), title=\"Number of revisions by month\")\n",
    "plt.show()"
   ]
  },
  {
   "cell_type": "code",
   "execution_count": 63,
   "metadata": {},
   "outputs": [
    {
     "data": {
      "image/png": "[encoded data removed]",
      "text/plain": [
       "<Figure size 576x360 with 1 Axes>"
      ]
     },
     "metadata": {},
     "output_type": "display_data"
    }
   ],
   "source": [
    "revByDay = tsRevWiki.resample('D').count()\n",
    "revByDay.plot(figsize=(8,5), title=\"Number of revisions by day\")\n",
    "plt.show()"
   ]
  },
  {
   "cell_type": "markdown",
   "metadata": {},
   "source": [
    "**Step 4: Compare the two visualizations** \n",
    "\n",
    "The first timeseries gives us the big picture of the period when change happened. We can see that for months there was almost no activity and then suddenly in May and then in June something big happened. But, this graph doesn't show us whether the change was evenly distributed, or it was a \"shock\" event.\n",
    "\n",
    "This is where the second timeseries becomes useful. We can see that something happened in very early May and then the biggest spike is concentrated in one day in late June. That is, the second timeseries allows us to zoom-in and get more accurate information about the specific days in the month in which something big happened."
   ]
  },
  {
   "cell_type": "markdown",
   "metadata": {},
   "source": [
    "<a id=\"sec6\"></a>"
   ]
  }
 ],
 "metadata": {
  "kernelspec": {
   "display_name": "Python 3",
   "language": "python",
   "name": "python3"
  },
  "language_info": {
   "codemirror_mode": {
    "name": "ipython",
    "version": 3
   },
   "file_extension": ".py",
   "mimetype": "text/x-python",
   "name": "python",
   "nbconvert_exporter": "python",
   "pygments_lexer": "ipython3",
   "version": "3.7.7"
  }
 },
 "nbformat": 4,
 "nbformat_minor": 1
}
